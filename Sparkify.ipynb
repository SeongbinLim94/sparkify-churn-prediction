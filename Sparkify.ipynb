{
 "cells": [
  {
   "cell_type": "markdown",
   "metadata": {},
   "source": [
    "# Sparkify Project Workspace\n",
    "This workspace contains a tiny subset (128MB) of the full dataset available (12GB). Feel free to use this workspace to build your project, or to explore a smaller subset with Spark before deploying your cluster on the cloud. Instructions for setting up your Spark cluster is included in the last lesson of the Extracurricular Spark Course content.\n",
    "\n",
    "You can follow the steps below to guide your data analysis and model building portion of this project."
   ]
  },
  {
   "cell_type": "code",
   "execution_count": 69,
   "metadata": {},
   "outputs": [],
   "source": [
    "# import libraries\n",
    "from pyspark.sql import SparkSession\n",
    "from pyspark.sql.functions import isnan, count, when, col, desc, udf, col, sort_array, asc, avg, lit\n",
    "from pyspark.sql.functions import sum as Fsum\n",
    "from pyspark.sql.window import Window\n",
    "from pyspark.sql.types import IntegerType\n",
    "\n",
    "import datetime\n",
    "\n",
    "import numpy as np\n",
    "import pandas as pd\n",
    "%matplotlib inline\n",
    "import matplotlib.pyplot as plt\n",
    "\n",
    "from pyspark.ml.feature import StringIndexer\n",
    "from pyspark.ml.feature import VectorAssembler\n",
    "from pyspark.ml.feature import MinMaxScaler\n",
    "from pyspark.ml.feature import PCA\n",
    "from pyspark.ml.classification import LogisticRegression\n",
    "from pyspark.ml import Pipeline\n",
    "from pyspark.ml.evaluation import MulticlassClassificationEvaluator\n",
    "from pyspark.ml.tuning import CrossValidator, ParamGridBuilder\n",
    "from pyspark.ml.classification import GBTClassifier\n",
    "from pyspark.ml.classification import NaiveBayes"
   ]
  },
  {
   "cell_type": "code",
   "execution_count": 70,
   "metadata": {},
   "outputs": [],
   "source": [
    "# create a Spark session\n",
    "spark = SparkSession \\\n",
    "    .builder \\\n",
    "    .appName(\"DataFrames Practice\") \\\n",
    "    .getOrCreate()"
   ]
  },
  {
   "cell_type": "markdown",
   "metadata": {},
   "source": [
    "# Load and Clean Dataset\n",
    "In this workspace, the mini-dataset file is `mini_sparkify_event_data.json`. Load and clean the dataset, checking for invalid or missing data - for example, records without userids or sessionids. "
   ]
  },
  {
   "cell_type": "code",
   "execution_count": 71,
   "metadata": {},
   "outputs": [],
   "source": [
    "# Load Data\n",
    "df = spark.read.json('mini_sparkify_event_data.json')"
   ]
  },
  {
   "cell_type": "code",
   "execution_count": 72,
   "metadata": {},
   "outputs": [],
   "source": [
    "# Clean Data : Those users not signed up yet are excluded\n",
    "df = df.filter(df['userId']!='')"
   ]
  },
  {
   "cell_type": "markdown",
   "metadata": {},
   "source": [
    "# Exploratory Data Analysis\n",
    "When you're working with the full dataset, perform EDA by loading a small subset of the data and doing basic manipulations within Spark. In this workspace, you are already provided a small subset of data you can explore.\n",
    "\n",
    "### Define Churn\n",
    "\n",
    "Once you've done some preliminary analysis, create a column `Churn` to use as the label for your model. I suggest using the `Cancellation Confirmation` events to define your churn, which happen for both paid and free users. As a bonus task, you can also look into the `Downgrade` events.\n",
    "\n",
    "### Explore Data\n",
    "Once you've defined churn, perform some exploratory data analysis to observe the behavior for users who stayed vs users who churned. You can start by exploring aggregates on these two groups of users, observing how much of a specific action they experienced per a certain time unit or number of songs played."
   ]
  },
  {
   "cell_type": "markdown",
   "metadata": {},
   "source": [
    "**Churn : The actions of users cancelling or downgrading service**"
   ]
  },
  {
   "cell_type": "code",
   "execution_count": 73,
   "metadata": {},
   "outputs": [],
   "source": [
    "# Filter Churned users and separate them from current users\n",
    "churn_record = df.filter((df['page']=='Cancellation Confirmation') | (df['page']=='Submit Downgrade')) \\\n",
    "                    .dropDuplicates(['userId'])\n",
    "\n",
    "churn_users = churn_record.select('userId') \\\n",
    "                .rdd.flatMap(lambda x: x) \\\n",
    "                .collect()\n",
    "\n",
    "df_churn = df.filter(df['userId'].isin(churn_users))\n",
    "df_not_churn = df.filter(~df['userId'].isin(churn_users))\n",
    "\n",
    "# Create Churn Column and represent 1 if a user is a churned user\n",
    "df_churn = df_churn.withColumn(\"churn\", lit(1))\n",
    "df_not_churn = df_not_churn.withColumn(\"churn\", lit(0))"
   ]
  },
  {
   "cell_type": "code",
   "execution_count": 45,
   "metadata": {},
   "outputs": [],
   "source": [
    "# Filter users who have cancellation log\n",
    "cancel_record = df.filter(df['page']=='Cancellation Confirmation')\n",
    "\n",
    "canceled_users = cancel_record.select('userId') \\\n",
    "                    .rdd.flatMap(lambda x: x) \\\n",
    "                    .collect()\n",
    "\n",
    "df_cancel = df.filter(df['userId'].isin(canceled_users))"
   ]
  },
  {
   "cell_type": "code",
   "execution_count": 46,
   "metadata": {},
   "outputs": [],
   "source": [
    "# Filter users who have experience in premium service\n",
    "paid_users = df.filter(df['level']=='paid') \\\n",
    "                .select('userId') \\\n",
    "                .rdd.flatMap(lambda x: x) \\\n",
    "                .collect()\n",
    "\n",
    "df_paid = df.filter(df['userId'].isin(paid_users))"
   ]
  },
  {
   "cell_type": "markdown",
   "metadata": {},
   "source": [
    "**Data Visualization**"
   ]
  },
  {
   "cell_type": "code",
   "execution_count": 47,
   "metadata": {},
   "outputs": [
    {
     "ename": "KeyError",
     "evalue": "'[1] not found in axis'",
     "output_type": "error",
     "traceback": [
      "\u001b[0;31m---------------------------------------------------------------------------\u001b[0m",
      "\u001b[0;31mKeyError\u001b[0m                                  Traceback (most recent call last)",
      "\u001b[0;32m<ipython-input-47-ab3038802d62>\u001b[0m in \u001b[0;36m<module>\u001b[0;34m()\u001b[0m\n\u001b[1;32m      1\u001b[0m \u001b[0;31m# Gender Ratio\u001b[0m\u001b[0;34m\u001b[0m\u001b[0;34m\u001b[0m\u001b[0m\n\u001b[1;32m      2\u001b[0m \u001b[0mchurn_gender_pd\u001b[0m \u001b[0;34m=\u001b[0m \u001b[0mdf_churn\u001b[0m\u001b[0;34m.\u001b[0m\u001b[0mgroupBy\u001b[0m\u001b[0;34m(\u001b[0m\u001b[0;34m'gender'\u001b[0m\u001b[0;34m)\u001b[0m\u001b[0;34m.\u001b[0m\u001b[0mcount\u001b[0m\u001b[0;34m(\u001b[0m\u001b[0;34m)\u001b[0m\u001b[0;34m.\u001b[0m\u001b[0mtoPandas\u001b[0m\u001b[0;34m(\u001b[0m\u001b[0;34m)\u001b[0m\u001b[0;34m\u001b[0m\u001b[0m\n\u001b[0;32m----> 3\u001b[0;31m \u001b[0mnot_churn_gender_pd\u001b[0m \u001b[0;34m=\u001b[0m \u001b[0mdf_not_churn\u001b[0m\u001b[0;34m.\u001b[0m\u001b[0mgroupBy\u001b[0m\u001b[0;34m(\u001b[0m\u001b[0;34m'gender'\u001b[0m\u001b[0;34m)\u001b[0m\u001b[0;34m.\u001b[0m\u001b[0mcount\u001b[0m\u001b[0;34m(\u001b[0m\u001b[0;34m)\u001b[0m\u001b[0;34m.\u001b[0m\u001b[0mtoPandas\u001b[0m\u001b[0;34m(\u001b[0m\u001b[0;34m)\u001b[0m\u001b[0;34m.\u001b[0m\u001b[0mdrop\u001b[0m\u001b[0;34m(\u001b[0m\u001b[0;36m1\u001b[0m\u001b[0;34m,\u001b[0m \u001b[0maxis\u001b[0m\u001b[0;34m=\u001b[0m\u001b[0;36m0\u001b[0m\u001b[0;34m)\u001b[0m\u001b[0;34m\u001b[0m\u001b[0m\n\u001b[0m\u001b[1;32m      4\u001b[0m \u001b[0;34m\u001b[0m\u001b[0m\n\u001b[1;32m      5\u001b[0m \u001b[0mnot_churn_gender_pd\u001b[0m\u001b[0;34m[\u001b[0m\u001b[0;34m'ratio'\u001b[0m\u001b[0;34m]\u001b[0m \u001b[0;34m=\u001b[0m \u001b[0mnot_churn_gender_pd\u001b[0m\u001b[0;34m[\u001b[0m\u001b[0;34m'count'\u001b[0m\u001b[0;34m]\u001b[0m \u001b[0;34m/\u001b[0m \u001b[0mnot_churn_gender_pd\u001b[0m\u001b[0;34m[\u001b[0m\u001b[0;34m'count'\u001b[0m\u001b[0;34m]\u001b[0m\u001b[0;34m.\u001b[0m\u001b[0msum\u001b[0m\u001b[0;34m(\u001b[0m\u001b[0;34m)\u001b[0m\u001b[0;34m\u001b[0m\u001b[0m\n",
      "\u001b[0;32m/opt/conda/lib/python3.6/site-packages/pandas/core/frame.py\u001b[0m in \u001b[0;36mdrop\u001b[0;34m(self, labels, axis, index, columns, level, inplace, errors)\u001b[0m\n\u001b[1;32m   3695\u001b[0m                                            \u001b[0mindex\u001b[0m\u001b[0;34m=\u001b[0m\u001b[0mindex\u001b[0m\u001b[0;34m,\u001b[0m \u001b[0mcolumns\u001b[0m\u001b[0;34m=\u001b[0m\u001b[0mcolumns\u001b[0m\u001b[0;34m,\u001b[0m\u001b[0;34m\u001b[0m\u001b[0m\n\u001b[1;32m   3696\u001b[0m                                            \u001b[0mlevel\u001b[0m\u001b[0;34m=\u001b[0m\u001b[0mlevel\u001b[0m\u001b[0;34m,\u001b[0m \u001b[0minplace\u001b[0m\u001b[0;34m=\u001b[0m\u001b[0minplace\u001b[0m\u001b[0;34m,\u001b[0m\u001b[0;34m\u001b[0m\u001b[0m\n\u001b[0;32m-> 3697\u001b[0;31m                                            errors=errors)\n\u001b[0m\u001b[1;32m   3698\u001b[0m \u001b[0;34m\u001b[0m\u001b[0m\n\u001b[1;32m   3699\u001b[0m     @rewrite_axis_style_signature('mapper', [('copy', True),\n",
      "\u001b[0;32m/opt/conda/lib/python3.6/site-packages/pandas/core/generic.py\u001b[0m in \u001b[0;36mdrop\u001b[0;34m(self, labels, axis, index, columns, level, inplace, errors)\u001b[0m\n\u001b[1;32m   3109\u001b[0m         \u001b[0;32mfor\u001b[0m \u001b[0maxis\u001b[0m\u001b[0;34m,\u001b[0m \u001b[0mlabels\u001b[0m \u001b[0;32min\u001b[0m \u001b[0maxes\u001b[0m\u001b[0;34m.\u001b[0m\u001b[0mitems\u001b[0m\u001b[0;34m(\u001b[0m\u001b[0;34m)\u001b[0m\u001b[0;34m:\u001b[0m\u001b[0;34m\u001b[0m\u001b[0m\n\u001b[1;32m   3110\u001b[0m             \u001b[0;32mif\u001b[0m \u001b[0mlabels\u001b[0m \u001b[0;32mis\u001b[0m \u001b[0;32mnot\u001b[0m \u001b[0;32mNone\u001b[0m\u001b[0;34m:\u001b[0m\u001b[0;34m\u001b[0m\u001b[0m\n\u001b[0;32m-> 3111\u001b[0;31m                 \u001b[0mobj\u001b[0m \u001b[0;34m=\u001b[0m \u001b[0mobj\u001b[0m\u001b[0;34m.\u001b[0m\u001b[0m_drop_axis\u001b[0m\u001b[0;34m(\u001b[0m\u001b[0mlabels\u001b[0m\u001b[0;34m,\u001b[0m \u001b[0maxis\u001b[0m\u001b[0;34m,\u001b[0m \u001b[0mlevel\u001b[0m\u001b[0;34m=\u001b[0m\u001b[0mlevel\u001b[0m\u001b[0;34m,\u001b[0m \u001b[0merrors\u001b[0m\u001b[0;34m=\u001b[0m\u001b[0merrors\u001b[0m\u001b[0;34m)\u001b[0m\u001b[0;34m\u001b[0m\u001b[0m\n\u001b[0m\u001b[1;32m   3112\u001b[0m \u001b[0;34m\u001b[0m\u001b[0m\n\u001b[1;32m   3113\u001b[0m         \u001b[0;32mif\u001b[0m \u001b[0minplace\u001b[0m\u001b[0;34m:\u001b[0m\u001b[0;34m\u001b[0m\u001b[0m\n",
      "\u001b[0;32m/opt/conda/lib/python3.6/site-packages/pandas/core/generic.py\u001b[0m in \u001b[0;36m_drop_axis\u001b[0;34m(self, labels, axis, level, errors)\u001b[0m\n\u001b[1;32m   3141\u001b[0m                 \u001b[0mnew_axis\u001b[0m \u001b[0;34m=\u001b[0m \u001b[0maxis\u001b[0m\u001b[0;34m.\u001b[0m\u001b[0mdrop\u001b[0m\u001b[0;34m(\u001b[0m\u001b[0mlabels\u001b[0m\u001b[0;34m,\u001b[0m \u001b[0mlevel\u001b[0m\u001b[0;34m=\u001b[0m\u001b[0mlevel\u001b[0m\u001b[0;34m,\u001b[0m \u001b[0merrors\u001b[0m\u001b[0;34m=\u001b[0m\u001b[0merrors\u001b[0m\u001b[0;34m)\u001b[0m\u001b[0;34m\u001b[0m\u001b[0m\n\u001b[1;32m   3142\u001b[0m             \u001b[0;32melse\u001b[0m\u001b[0;34m:\u001b[0m\u001b[0;34m\u001b[0m\u001b[0m\n\u001b[0;32m-> 3143\u001b[0;31m                 \u001b[0mnew_axis\u001b[0m \u001b[0;34m=\u001b[0m \u001b[0maxis\u001b[0m\u001b[0;34m.\u001b[0m\u001b[0mdrop\u001b[0m\u001b[0;34m(\u001b[0m\u001b[0mlabels\u001b[0m\u001b[0;34m,\u001b[0m \u001b[0merrors\u001b[0m\u001b[0;34m=\u001b[0m\u001b[0merrors\u001b[0m\u001b[0;34m)\u001b[0m\u001b[0;34m\u001b[0m\u001b[0m\n\u001b[0m\u001b[1;32m   3144\u001b[0m             \u001b[0mresult\u001b[0m \u001b[0;34m=\u001b[0m \u001b[0mself\u001b[0m\u001b[0;34m.\u001b[0m\u001b[0mreindex\u001b[0m\u001b[0;34m(\u001b[0m\u001b[0;34m**\u001b[0m\u001b[0;34m{\u001b[0m\u001b[0maxis_name\u001b[0m\u001b[0;34m:\u001b[0m \u001b[0mnew_axis\u001b[0m\u001b[0;34m}\u001b[0m\u001b[0;34m)\u001b[0m\u001b[0;34m\u001b[0m\u001b[0m\n\u001b[1;32m   3145\u001b[0m \u001b[0;34m\u001b[0m\u001b[0m\n",
      "\u001b[0;32m/opt/conda/lib/python3.6/site-packages/pandas/core/indexes/base.py\u001b[0m in \u001b[0;36mdrop\u001b[0;34m(self, labels, errors)\u001b[0m\n\u001b[1;32m   4402\u001b[0m             \u001b[0;32mif\u001b[0m \u001b[0merrors\u001b[0m \u001b[0;34m!=\u001b[0m \u001b[0;34m'ignore'\u001b[0m\u001b[0;34m:\u001b[0m\u001b[0;34m\u001b[0m\u001b[0m\n\u001b[1;32m   4403\u001b[0m                 raise KeyError(\n\u001b[0;32m-> 4404\u001b[0;31m                     '{} not found in axis'.format(labels[mask]))\n\u001b[0m\u001b[1;32m   4405\u001b[0m             \u001b[0mindexer\u001b[0m \u001b[0;34m=\u001b[0m \u001b[0mindexer\u001b[0m\u001b[0;34m[\u001b[0m\u001b[0;34m~\u001b[0m\u001b[0mmask\u001b[0m\u001b[0;34m]\u001b[0m\u001b[0;34m\u001b[0m\u001b[0m\n\u001b[1;32m   4406\u001b[0m         \u001b[0;32mreturn\u001b[0m \u001b[0mself\u001b[0m\u001b[0;34m.\u001b[0m\u001b[0mdelete\u001b[0m\u001b[0;34m(\u001b[0m\u001b[0mindexer\u001b[0m\u001b[0;34m)\u001b[0m\u001b[0;34m\u001b[0m\u001b[0m\n",
      "\u001b[0;31mKeyError\u001b[0m: '[1] not found in axis'"
     ]
    }
   ],
   "source": [
    "# Gender Ratio\n",
    "churn_gender_pd = df_churn.groupBy('gender').count().toPandas()\n",
    "not_churn_gender_pd = df_not_churn.groupBy('gender').count().toPandas().drop(1, axis=0)\n",
    "\n",
    "not_churn_gender_pd['ratio'] = not_churn_gender_pd['count'] / not_churn_gender_pd['count'].sum()\n",
    "churn_gender_pd['ratio'] = churn_gender_pd['count'] / churn_gender_pd['count'].sum()\n",
    "\n",
    "label = churn_gender_pd['gender'].tolist()\n",
    "index = np.arange(len(label))\n",
    "bar_width = 0.4\n",
    "\n",
    "plt.figure(figsize=(9, 4))\n",
    "\n",
    "p1 = plt.bar(index, churn_gender_pd['ratio'],\n",
    "             width = bar_width,\n",
    "             color = 'blue',\n",
    "             alpha = 0.5)\n",
    "\n",
    "p2 = plt.bar(index + bar_width, not_churn_gender_pd['ratio'],\n",
    "             width = bar_width,\n",
    "             color = 'red',\n",
    "             alpha = 0.5)\n",
    "\n",
    "plt.title('Dodged Bar Chart of Ratio of Gender by Churn', fontsize=20)\n",
    "plt.ylabel('Ratio', fontsize=15)\n",
    "plt.xlabel('Gender', fontsize=15)\n",
    "plt.xticks(index + bar_width/2, label, fontsize=15)\n",
    "plt.legend((p1[0], p2[0]), ('Churn', 'Current'), loc='upper right', fontsize=10)\n",
    "\n",
    "\n",
    "plt.show()"
   ]
  },
  {
   "cell_type": "code",
   "execution_count": null,
   "metadata": {},
   "outputs": [],
   "source": [
    "# Location Ratio\n",
    "churn_loc_pd = df_churn.groupBy('location').count().toPandas()\n",
    "not_churn_loc_pd = df_not_churn.groupBy('location').count().toPandas()\n",
    "\n",
    "top3_loc_churn = churn_loc_pd.sort_values('count', ascending=False).head(3)\n",
    "top3_loc_not_churn = not_churn_loc_pd.sort_values('count', ascending=False).head(3)\n",
    "\n",
    "top3_loc_churn['ratio'] = top3_loc_churn['count'] / top3_loc_churn['count'].sum()\n",
    "top3_loc_not_churn['ratio'] = top3_loc_not_churn['count'] / top3_loc_not_churn['count'].sum()\n",
    "\n",
    "label_churn = top3_loc_churn['location'].tolist()\n",
    "label_not_churn = top3_loc_not_churn['location'].tolist()\n",
    "\n",
    "index_churn = np.arange(len(label_churn))\n",
    "index_not_churn = np.arange(len(label_not_churn))\n",
    "\n",
    "fig = plt.figure(figsize=(20, 10))\n",
    "\n",
    "fig.subplots_adjust(wspace=4)\n",
    "\n",
    "p1 = fig.add_subplot(1, 2, 1)\n",
    "p2 = fig.add_subplot(1, 2, 2)\n",
    "\n",
    "p1.bar(index_churn, top3_loc_churn['ratio'],\n",
    "       width = 0.35,\n",
    "       color = 'blue',\n",
    "       alpha = 0.5)\n",
    "p1.set_title(\"Top 3 Locations of Churned Customers\", fontsize=20)\n",
    "plt.setp(p1, xticks=index_churn, xticklabels=label_churn, yticks=[0, 0.3, max(top3_loc_churn['ratio'])])\n",
    "p1.set_xticklabels(label_churn, rotation=30)\n",
    "\n",
    "p2.bar(index_not_churn, top3_loc_not_churn['ratio'],\n",
    "       width = 0.35,\n",
    "       color = 'red',\n",
    "       alpha = 0.5)\n",
    "p2.set_title(\"Top 3 Locations of Current Custommers\", fontsize=20)\n",
    "plt.setp(p2, xticks=index_not_churn, xticklabels=label_not_churn, yticks=[0, 0.3, max(top3_loc_not_churn['ratio'])])\n",
    "p2.set_xticklabels(label_not_churn, rotation=30)\n",
    "\n",
    "plt.tight_layout()\n",
    "plt.show()"
   ]
  },
  {
   "cell_type": "code",
   "execution_count": null,
   "metadata": {},
   "outputs": [],
   "source": [
    "# User Behavior - Usage of Sparkify\n",
    "churn_usage = df_churn.filter(df_churn.page == 'NextSong') \\\n",
    "                .select('userId') \\\n",
    "                .groupBy('userId') \\\n",
    "                .agg({'userId':'count'}) \\\n",
    "                .withColumnRenamed('count(userId)', 'usage_count') \\\n",
    "                .sort(desc('usage_count')) \\\n",
    "                .toPandas()\n",
    "\n",
    "not_churn_usage = df_not_churn.filter(df_not_churn.page == 'NextSong') \\\n",
    "                    .select('userId') \\\n",
    "                    .groupBy('userId') \\\n",
    "                    .agg({'userId':'count'}) \\\n",
    "                    .withColumnRenamed('count(userId)', 'usage_count') \\\n",
    "                    .sort(desc('usage_count')) \\\n",
    "                    .toPandas()\n",
    "\n",
    "churn_TAU = churn_usage.usage_count.sum() / churn_usage.userId.count()\n",
    "current_TAU = not_churn_usage.usage_count.sum() / not_churn_usage.userId.count()\n",
    "label = ['Churn', 'Current']\n",
    "bar_width =0.4\n",
    "\n",
    "plt.figure(figsize=(6, 4))\n",
    "plot = plt.bar(label, [churn_TAU, current_TAU],\n",
    "               color=['blue', 'red'],\n",
    "               alpha=0.5,\n",
    "               width=bar_width)\n",
    "\n",
    "plt.title('Total Average Usages of Type of Users', fontsize=20)\n",
    "plt.ylabel('TAU', fontsize=15)\n",
    "plt.xlabel('Type of Users', fontsize = 15)\n",
    "plt.legend((plot[0], plot[1]), ('Churn', 'Current'), loc='upper right', fontsize=10)\n",
    "\n",
    "plt.show()"
   ]
  },
  {
   "cell_type": "code",
   "execution_count": null,
   "metadata": {},
   "outputs": [],
   "source": [
    "# Status of usage when users cancel Sparkify service\n",
    "fr_cancel_num = df_cancel.filter((df_cancel['page']==\"Cancellation Confirmation\") & (df_cancel['level']==\"free\")) \\\n",
    "                .select('userId') \\\n",
    "                .count()\n",
    "pr_cancel_num = df_cancel.filter((df_cancel['page']==\"Cancellation Confirmation\") & (df_cancel['level']==\"paid\")) \\\n",
    "                .select('userId') \\\n",
    "                .count()\n",
    "\n",
    "label = ['Free', 'Premium']\n",
    "bar_width = 0.4\n",
    "\n",
    "plt.figure(figsize=(6, 4))\n",
    "\n",
    "plot = plt.bar(label, [fr_cancel_num, pr_cancel_num],\n",
    "               color=['blue', 'red'],\n",
    "               alpha=0.5,\n",
    "               width=bar_width)\n",
    "\n",
    "plt.title('Status of Usage When Users Cancel Sparkify', fontsize=15)\n",
    "plt.ylabel('Count of Users', fontsize=15)\n",
    "plt.xlabel('Type of Usage', fontsize = 15)\n",
    "plt.legend((plot[0], plot[1]), ('Free', 'Premium'), loc='upper left', fontsize=10)\n",
    "\n",
    "plt.show()"
   ]
  },
  {
   "cell_type": "code",
   "execution_count": null,
   "metadata": {},
   "outputs": [],
   "source": [
    "# Status of usage when paid users cancel Sparkify service\n",
    "fr_cancel_num = df_paid.filter((df_paid['page']==\"Cancellation Confirmation\") & (df_paid['level']==\"free\")) \\\n",
    "                .select('userId') \\\n",
    "                .count()\n",
    "pr_cancel_num = df_paid.filter((df_paid['page']==\"Cancellation Confirmation\") & (df_paid['level']==\"paid\")) \\\n",
    "                .select('userId') \\\n",
    "                .count()\n",
    "\n",
    "label = ['Free', 'Premium']\n",
    "bar_width = 0.4\n",
    "\n",
    "plt.figure(figsize=(6, 4))\n",
    "\n",
    "plot = plt.bar(label, [fr_cancel_num, pr_cancel_num],\n",
    "               color=['blue', 'red'],\n",
    "               alpha=0.5,\n",
    "               width=bar_width)\n",
    "\n",
    "plt.title('Status of Usage When Paid Users Cancel Sparkify', fontsize=15)\n",
    "plt.ylabel('Count of Users', fontsize=15)\n",
    "plt.xlabel('Type of Usage', fontsize = 15)\n",
    "plt.legend((plot[0], plot[1]), ('Free', 'Premium'), loc='upper left', fontsize=10)\n",
    "\n",
    "plt.show()"
   ]
  },
  {
   "cell_type": "code",
   "execution_count": null,
   "metadata": {},
   "outputs": [],
   "source": [
    "# The frequency of accessing Downgrade page\n",
    "d_page_access_churn = df_churn.filter(df_churn['page']=='Downgrade') \\\n",
    "                        .select('userId') \\\n",
    "                        .groupBy('userId') \\\n",
    "                        .agg({'userId':'count'}) \\\n",
    "                        .withColumnRenamed('count(userId)', 'downgrade page access') \\\n",
    "                        .toPandas()\n",
    "    \n",
    "d_page_access_current = df_not_churn.filter(df_churn['page']=='Downgrade') \\\n",
    "                        .select('userId') \\\n",
    "                        .groupBy('userId') \\\n",
    "                        .agg({'userId':'count'}) \\\n",
    "                        .withColumnRenamed('count(userId)', 'downgrade page access') \\\n",
    "                        .toPandas()\n",
    "\n",
    "d_frequency_churn = d_page_access_churn['downgrade page access'].sum() / d_page_access_churn.shape[0]\n",
    "d_frequency_current = d_page_access_current['downgrade page access'].sum() / d_page_access_current.shape[0]\n",
    "\n",
    "label = ['Churn', 'Current']\n",
    "bar_width = 0.4\n",
    "\n",
    "plt.figure(figsize=(8, 6))\n",
    "\n",
    "plot = plt.bar(label, [d_frequency_churn, d_frequency_current],\n",
    "               color=['blue', 'red'],\n",
    "               alpha=0.5,\n",
    "               width=bar_width)\n",
    "\n",
    "plt.title('Frequency of Accessing Downgrade Page', fontsize=20)\n",
    "plt.ylabel('Average Access', fontsize=15)\n",
    "plt.xlabel('Type of Users', fontsize = 15)\n",
    "plt.legend((plot[0], plot[1]), ('Churn', 'Current'), loc='upper right', fontsize=10)\n",
    "\n",
    "plt.show()"
   ]
  },
  {
   "cell_type": "markdown",
   "metadata": {},
   "source": [
    "# Feature Engineering\n",
    "Once you've familiarized yourself with the data, build out the features you find promising to train your model on. To work with the full dataset, you can follow the following steps.\n",
    "- Write a script to extract the necessary features from the smaller subset of data\n",
    "- Ensure that your script is scalable, using the best practices discussed in Lesson 3\n",
    "- Try your script on the full data set, debugging your script if necessary\n",
    "\n",
    "If you are working in the classroom workspace, you can just extract features based on the small subset of data contained here. Be sure to transfer over this work to the larger dataset when you work on your Spark cluster."
   ]
  },
  {
   "cell_type": "code",
   "execution_count": 74,
   "metadata": {},
   "outputs": [],
   "source": [
    "# Union two dataframes into a single dataframe\n",
    "df = df_churn.union(df_not_churn).select('userId', 'gender', 'level', 'page', 'churn')\n",
    "\n",
    "# Pivot level column and aggregate values for each users\n",
    "df_level_cnt = df.groupby('userId', 'level') \\\n",
    "                 .pivot('level', ['free', 'paid']) \\\n",
    "                 .count() \\\n",
    "                 .drop('level') \\\n",
    "                 .orderBy('userId')\n",
    "\n",
    "# Pivot page column and aggregate values for each users\n",
    "df_page_cnt = df.filter((df['page']=='NextSong') | (df['page']=='Submit Downgrade') | (df['page']=='Submit Upgrade') | \n",
    "                        (df['page']=='Downgrade') | (df['page']=='Thumbs Up') | (df['page']=='Thumbs Down') | \n",
    "                        (df['page']=='Add to Playlist') | (df['page']=='Add Friend')) \\\n",
    "                .groupby('userId', 'page') \\\n",
    "                .pivot('page') \\\n",
    "                .count() \\\n",
    "                .drop('page') \\\n",
    "                .orderBy('userId')\n",
    "\n",
    "# Drop the original level & page column and join above two dataframes with the original dataframe\n",
    "df = df.drop('level', 'page') \\\n",
    "       .join(df_level_cnt, 'userId', 'inner') \\\n",
    "       .join(df_page_cnt, 'userId', 'inner') \\\n",
    "       .orderBy('userId') \\\n",
    "       .dropDuplicates()\n",
    "\n",
    "# Aggregate users data to a single row represents a user information only\n",
    "df = df.groupby('userId', 'gender').max()\n",
    "features = df.select(['gender', 'max(free)', 'max(paid)', 'max(Add Friend)',\n",
    "                      'max(Add to Playlist)', 'max(Downgrade)', 'max(NextSong)',\n",
    "                      'max(Submit Downgrade)', 'max(Submit Upgrade)', 'max(Thumbs Down)', \n",
    "                      'max(Thumbs Up)', 'max(churn)']) \\\n",
    "             .withColumnRenamed('max(free)', 'free') \\\n",
    "             .withColumnRenamed('max(paid)', 'paid') \\\n",
    "             .withColumnRenamed('max(Add Friend)', 'add_friend') \\\n",
    "             .withColumnRenamed('max(Add to Playlist)', 'add_playlist') \\\n",
    "             .withColumnRenamed('max(Downgrade)', 'd_pge_access') \\\n",
    "             .withColumnRenamed('max(NextSong)', 'num_music') \\\n",
    "             .withColumnRenamed('max(Submit Downgrade)', 'num_downgrade') \\\n",
    "             .withColumnRenamed('max(Submit Upgrade)', 'num_upgrade') \\\n",
    "             .withColumnRenamed('max(Thumbs Down)', 'dislike') \\\n",
    "             .withColumnRenamed('max(Thumbs Up)', 'like') \\\n",
    "             .withColumnRenamed('max(churn)', 'churn') \\\n",
    "             .fillna(0)"
   ]
  },
  {
   "cell_type": "code",
   "execution_count": 75,
   "metadata": {},
   "outputs": [
    {
     "data": {
      "text/plain": [
       "DataFrame[gender: string, free: bigint, paid: bigint, add_friend: bigint, add_playlist: bigint, d_pge_access: bigint, num_music: bigint, num_downgrade: bigint, num_upgrade: bigint, dislike: bigint, like: bigint, churn: int]"
      ]
     },
     "execution_count": 75,
     "metadata": {},
     "output_type": "execute_result"
    }
   ],
   "source": [
    "features.persist()"
   ]
  },
  {
   "cell_type": "markdown",
   "metadata": {},
   "source": [
    "# Modeling\n",
    "Split the full dataset into train, test, and validation sets. Test out several of the machine learning methods you learned. Evaluate the accuracy of the various models, tuning parameters as necessary. Determine your winning model based on test accuracy and report results on the validation set. Since the churned users are a fairly small subset, I suggest using F1 score as the metric to optimize."
   ]
  },
  {
   "cell_type": "code",
   "execution_count": 77,
   "metadata": {},
   "outputs": [],
   "source": [
    "# Split dataset into train, and test split sets\n",
    "rest, validation = features.randomSplit([0.9, 0.1], seed=42)"
   ]
  },
  {
   "cell_type": "code",
   "execution_count": 78,
   "metadata": {},
   "outputs": [
    {
     "ename": "KeyboardInterrupt",
     "evalue": "",
     "output_type": "error",
     "traceback": [
      "\u001b[0;31m---------------------------------------------------------------------------\u001b[0m",
      "\u001b[0;31mIndexError\u001b[0m                                Traceback (most recent call last)",
      "\u001b[0;32m/opt/conda/lib/python3.6/multiprocessing/pool.py\u001b[0m in \u001b[0;36mnext\u001b[0;34m(self, timeout)\u001b[0m\n\u001b[1;32m    719\u001b[0m             \u001b[0;32mtry\u001b[0m\u001b[0;34m:\u001b[0m\u001b[0;34m\u001b[0m\u001b[0m\n\u001b[0;32m--> 720\u001b[0;31m                 \u001b[0mitem\u001b[0m \u001b[0;34m=\u001b[0m \u001b[0mself\u001b[0m\u001b[0;34m.\u001b[0m\u001b[0m_items\u001b[0m\u001b[0;34m.\u001b[0m\u001b[0mpopleft\u001b[0m\u001b[0;34m(\u001b[0m\u001b[0;34m)\u001b[0m\u001b[0;34m\u001b[0m\u001b[0m\n\u001b[0m\u001b[1;32m    721\u001b[0m             \u001b[0;32mexcept\u001b[0m \u001b[0mIndexError\u001b[0m\u001b[0;34m:\u001b[0m\u001b[0;34m\u001b[0m\u001b[0m\n",
      "\u001b[0;31mIndexError\u001b[0m: pop from an empty deque",
      "\nDuring handling of the above exception, another exception occurred:\n",
      "\u001b[0;31mKeyboardInterrupt\u001b[0m                         Traceback (most recent call last)",
      "\u001b[0;32m<ipython-input-78-ba71d9c22533>\u001b[0m in \u001b[0;36m<module>\u001b[0;34m()\u001b[0m\n\u001b[1;32m     26\u001b[0m                           numFolds=10)\n\u001b[1;32m     27\u001b[0m \u001b[0;34m\u001b[0m\u001b[0m\n\u001b[0;32m---> 28\u001b[0;31m \u001b[0mbase_model\u001b[0m \u001b[0;34m=\u001b[0m \u001b[0mcrossval\u001b[0m\u001b[0;34m.\u001b[0m\u001b[0mfit\u001b[0m\u001b[0;34m(\u001b[0m\u001b[0mrest\u001b[0m\u001b[0;34m)\u001b[0m\u001b[0;34m\u001b[0m\u001b[0m\n\u001b[0m\u001b[1;32m     29\u001b[0m \u001b[0;34m\u001b[0m\u001b[0m\n\u001b[1;32m     30\u001b[0m \u001b[0mresults\u001b[0m \u001b[0;34m=\u001b[0m \u001b[0mbase_model\u001b[0m\u001b[0;34m.\u001b[0m\u001b[0mtransform\u001b[0m\u001b[0;34m(\u001b[0m\u001b[0mvalidation\u001b[0m\u001b[0;34m)\u001b[0m\u001b[0;34m\u001b[0m\u001b[0m\n",
      "\u001b[0;32m/opt/spark-2.4.3-bin-hadoop2.7/python/pyspark/ml/base.py\u001b[0m in \u001b[0;36mfit\u001b[0;34m(self, dataset, params)\u001b[0m\n\u001b[1;32m    130\u001b[0m                 \u001b[0;32mreturn\u001b[0m \u001b[0mself\u001b[0m\u001b[0;34m.\u001b[0m\u001b[0mcopy\u001b[0m\u001b[0;34m(\u001b[0m\u001b[0mparams\u001b[0m\u001b[0;34m)\u001b[0m\u001b[0;34m.\u001b[0m\u001b[0m_fit\u001b[0m\u001b[0;34m(\u001b[0m\u001b[0mdataset\u001b[0m\u001b[0;34m)\u001b[0m\u001b[0;34m\u001b[0m\u001b[0m\n\u001b[1;32m    131\u001b[0m             \u001b[0;32melse\u001b[0m\u001b[0;34m:\u001b[0m\u001b[0;34m\u001b[0m\u001b[0m\n\u001b[0;32m--> 132\u001b[0;31m                 \u001b[0;32mreturn\u001b[0m \u001b[0mself\u001b[0m\u001b[0;34m.\u001b[0m\u001b[0m_fit\u001b[0m\u001b[0;34m(\u001b[0m\u001b[0mdataset\u001b[0m\u001b[0;34m)\u001b[0m\u001b[0;34m\u001b[0m\u001b[0m\n\u001b[0m\u001b[1;32m    133\u001b[0m         \u001b[0;32melse\u001b[0m\u001b[0;34m:\u001b[0m\u001b[0;34m\u001b[0m\u001b[0m\n\u001b[1;32m    134\u001b[0m             raise ValueError(\"Params must be either a param map or a list/tuple of param maps, \"\n",
      "\u001b[0;32m/opt/spark-2.4.3-bin-hadoop2.7/python/pyspark/ml/tuning.py\u001b[0m in \u001b[0;36m_fit\u001b[0;34m(self, dataset)\u001b[0m\n\u001b[1;32m    302\u001b[0m \u001b[0;34m\u001b[0m\u001b[0m\n\u001b[1;32m    303\u001b[0m             \u001b[0mtasks\u001b[0m \u001b[0;34m=\u001b[0m \u001b[0m_parallelFitTasks\u001b[0m\u001b[0;34m(\u001b[0m\u001b[0mest\u001b[0m\u001b[0;34m,\u001b[0m \u001b[0mtrain\u001b[0m\u001b[0;34m,\u001b[0m \u001b[0meva\u001b[0m\u001b[0;34m,\u001b[0m \u001b[0mvalidation\u001b[0m\u001b[0;34m,\u001b[0m \u001b[0mepm\u001b[0m\u001b[0;34m,\u001b[0m \u001b[0mcollectSubModelsParam\u001b[0m\u001b[0;34m)\u001b[0m\u001b[0;34m\u001b[0m\u001b[0m\n\u001b[0;32m--> 304\u001b[0;31m             \u001b[0;32mfor\u001b[0m \u001b[0mj\u001b[0m\u001b[0;34m,\u001b[0m \u001b[0mmetric\u001b[0m\u001b[0;34m,\u001b[0m \u001b[0msubModel\u001b[0m \u001b[0;32min\u001b[0m \u001b[0mpool\u001b[0m\u001b[0;34m.\u001b[0m\u001b[0mimap_unordered\u001b[0m\u001b[0;34m(\u001b[0m\u001b[0;32mlambda\u001b[0m \u001b[0mf\u001b[0m\u001b[0;34m:\u001b[0m \u001b[0mf\u001b[0m\u001b[0;34m(\u001b[0m\u001b[0;34m)\u001b[0m\u001b[0;34m,\u001b[0m \u001b[0mtasks\u001b[0m\u001b[0;34m)\u001b[0m\u001b[0;34m:\u001b[0m\u001b[0;34m\u001b[0m\u001b[0m\n\u001b[0m\u001b[1;32m    305\u001b[0m                 \u001b[0mmetrics\u001b[0m\u001b[0;34m[\u001b[0m\u001b[0mj\u001b[0m\u001b[0;34m]\u001b[0m \u001b[0;34m+=\u001b[0m \u001b[0;34m(\u001b[0m\u001b[0mmetric\u001b[0m \u001b[0;34m/\u001b[0m \u001b[0mnFolds\u001b[0m\u001b[0;34m)\u001b[0m\u001b[0;34m\u001b[0m\u001b[0m\n\u001b[1;32m    306\u001b[0m                 \u001b[0;32mif\u001b[0m \u001b[0mcollectSubModelsParam\u001b[0m\u001b[0;34m:\u001b[0m\u001b[0;34m\u001b[0m\u001b[0m\n",
      "\u001b[0;32m/opt/conda/lib/python3.6/multiprocessing/pool.py\u001b[0m in \u001b[0;36mnext\u001b[0;34m(self, timeout)\u001b[0m\n\u001b[1;32m    722\u001b[0m                 \u001b[0;32mif\u001b[0m \u001b[0mself\u001b[0m\u001b[0;34m.\u001b[0m\u001b[0m_index\u001b[0m \u001b[0;34m==\u001b[0m \u001b[0mself\u001b[0m\u001b[0;34m.\u001b[0m\u001b[0m_length\u001b[0m\u001b[0;34m:\u001b[0m\u001b[0;34m\u001b[0m\u001b[0m\n\u001b[1;32m    723\u001b[0m                     \u001b[0;32mraise\u001b[0m \u001b[0mStopIteration\u001b[0m\u001b[0;34m\u001b[0m\u001b[0m\n\u001b[0;32m--> 724\u001b[0;31m                 \u001b[0mself\u001b[0m\u001b[0;34m.\u001b[0m\u001b[0m_cond\u001b[0m\u001b[0;34m.\u001b[0m\u001b[0mwait\u001b[0m\u001b[0;34m(\u001b[0m\u001b[0mtimeout\u001b[0m\u001b[0;34m)\u001b[0m\u001b[0;34m\u001b[0m\u001b[0m\n\u001b[0m\u001b[1;32m    725\u001b[0m                 \u001b[0;32mtry\u001b[0m\u001b[0;34m:\u001b[0m\u001b[0;34m\u001b[0m\u001b[0m\n\u001b[1;32m    726\u001b[0m                     \u001b[0mitem\u001b[0m \u001b[0;34m=\u001b[0m \u001b[0mself\u001b[0m\u001b[0;34m.\u001b[0m\u001b[0m_items\u001b[0m\u001b[0;34m.\u001b[0m\u001b[0mpopleft\u001b[0m\u001b[0;34m(\u001b[0m\u001b[0;34m)\u001b[0m\u001b[0;34m\u001b[0m\u001b[0m\n",
      "\u001b[0;32m/opt/conda/lib/python3.6/threading.py\u001b[0m in \u001b[0;36mwait\u001b[0;34m(self, timeout)\u001b[0m\n\u001b[1;32m    293\u001b[0m         \u001b[0;32mtry\u001b[0m\u001b[0;34m:\u001b[0m    \u001b[0;31m# restore state no matter what (e.g., KeyboardInterrupt)\u001b[0m\u001b[0;34m\u001b[0m\u001b[0m\n\u001b[1;32m    294\u001b[0m             \u001b[0;32mif\u001b[0m \u001b[0mtimeout\u001b[0m \u001b[0;32mis\u001b[0m \u001b[0;32mNone\u001b[0m\u001b[0;34m:\u001b[0m\u001b[0;34m\u001b[0m\u001b[0m\n\u001b[0;32m--> 295\u001b[0;31m                 \u001b[0mwaiter\u001b[0m\u001b[0;34m.\u001b[0m\u001b[0macquire\u001b[0m\u001b[0;34m(\u001b[0m\u001b[0;34m)\u001b[0m\u001b[0;34m\u001b[0m\u001b[0m\n\u001b[0m\u001b[1;32m    296\u001b[0m                 \u001b[0mgotit\u001b[0m \u001b[0;34m=\u001b[0m \u001b[0;32mTrue\u001b[0m\u001b[0;34m\u001b[0m\u001b[0m\n\u001b[1;32m    297\u001b[0m             \u001b[0;32melse\u001b[0m\u001b[0;34m:\u001b[0m\u001b[0;34m\u001b[0m\u001b[0m\n",
      "\u001b[0;31mKeyboardInterrupt\u001b[0m: "
     ]
    }
   ],
   "source": [
    "# String indexer for gender column\n",
    "indexer = StringIndexer(inputCol=\"gender\", outputCol=\"gender_index\")\n",
    "\n",
    "# Vector assembler for creating features\n",
    "assembler = VectorAssembler(inputCols=['gender_index', 'free', 'paid', 'add_friend', 'add_playlist', 'd_pge_access', \n",
    "                                       'num_music', 'num_downgrade', 'num_upgrade', 'dislike', 'like'], \n",
    "                            outputCol=\"features\")\n",
    "\n",
    "# MinMax scaler for scaling features\n",
    "scaler = MinMaxScaler(inputCol=\"features\", outputCol=\"scaledFeatures\")\n",
    "\n",
    "# Principal Component Analysis for dimension reduction\n",
    "pca = PCA(k=2, inputCol=\"scaledFeatures\", outputCol=\"pcaFeatures\")\n",
    "\n",
    "# Logistic regression model for baseline estimator\n",
    "lr =  LogisticRegression(featuresCol='pcaFeatures', labelCol='churn', maxIter=10, regParam=0.3, elasticNetParam=0.8)\n",
    "\n",
    "# Baseline modeling & Hyper parameter tuning\n",
    "base_pipeline = Pipeline(stages=[indexer, assembler, scaler, pca, lr])\n",
    "\n",
    "paramGrid = ParamGridBuilder() \\\n",
    "    .addGrid(lr.regParam, [0, 0.3, 0.5]) \\\n",
    "    .addGrid(lr.elasticNetParam, [0.2, 0.8]) \\\n",
    "    .build()\n",
    "\n",
    "crossval = CrossValidator(estimator=base_pipeline, \n",
    "                          estimatorParamMaps=paramGrid,\n",
    "                          evaluator=MulticlassClassificationEvaluator(labelCol='churn'),\n",
    "                          numFolds=10)\n",
    "\n",
    "base_model = crossval.fit(rest)\n",
    "\n",
    "results = base_model.transform(validation)\n",
    "\n",
    "# Multiclass Classification Evaluator to evaluate models' F1 score\n",
    "evaluator = MulticlassClassificationEvaluator(labelCol='churn')\n",
    "\n",
    "# Results of baseline model's F1 score, and its best hyperparameter\n",
    "print('F1 score: {}'.format(evaluator.evaluate(results.select(['prediction', 'churn']))))\n",
    "print('Best parameter for regParam: {}'.format(base_model.bestModel.stages[-1]._java_obj.parent().getRegParam()))\n",
    "print('Best parameter for elasticNetParam: {}'.format(base_model.bestModel.stages[-1]._java_obj.parent().getElasticNetParam()))\n",
    "\n",
    "# Above the evaluation code is referenced from:\n",
    "# https://stackoverflow.com/questions/36697304/how-to-extract-model-hyper-parameters-from-spark-ml-in-pyspark"
   ]
  },
  {
   "cell_type": "code",
   "execution_count": null,
   "metadata": {},
   "outputs": [],
   "source": [
    "# Gradient Boosted Tree for second estimator\n",
    "gbt = GBTClassifier(featuresCol=\"pcaFeatures\", labelCol=\"churn\", maxIter=10)\n",
    "gbt_pipeline = Pipeline(stages=[indexer, assembler, scaler, pca, gbt])\n",
    "\n",
    "gbt_paramGrid = ParamGridBuilder() \\\n",
    "    .addGrid(gbt.maxDepth, [5, 10]) \\\n",
    "    .build()\n",
    "\n",
    "crossval_gbt = CrossValidator(estimator=base_pipeline,\n",
    "                              estimatorParamMaps=gbt_paramGrid,\n",
    "                              evaluator=MulticlassClassificationEvaluator(labelCol='churn'),\n",
    "                              numFolds=10)\n",
    "\n",
    "gbt_model = crossval_gbt.fit(rest)\n",
    "\n",
    "results_gbt = gbt_model.transform(validation)\n",
    "\n",
    "# Results of GBT model's F1 score\n",
    "print('F1 score: {}'.format(evaluator.evaluate(results_gbt.select(['prediction', 'churn']))))"
   ]
  },
  {
   "cell_type": "code",
   "execution_count": null,
   "metadata": {},
   "outputs": [],
   "source": [
    "# Naive Bayes model for the final estimator\n",
    "nb = NaiveBayes(featuresCol='scaledFeatures', labelCol='churn', smoothing=1.0, modelType=\"multinomial\")\n",
    "nb_pipeline = Pipeline(stages=[indexer, assembler, scaler, nb])\n",
    "\n",
    "nb_paramGrid = ParamGridBuilder() \\\n",
    "    .addGrid(nb.smoothing, [0.2, 0.4, 0.6, 0.8, 1]) \\\n",
    "    .build()\n",
    "\n",
    "crossval_nb = CrossValidator(estimator=nb_pipeline,\n",
    "                             estimatorParamMaps=nb_paramGrid,\n",
    "                             evaluator=MulticlassClassificationEvaluator(labelCol='churn'),\n",
    "                             numFolds=10)\n",
    "\n",
    "nb_model = crossval_nb.fit(rest)\n",
    "\n",
    "results_nb = nb_model.transform(validation)\n",
    "\n",
    "# Results of Naive Bayes model's F1 score, and its best hyperparameter\n",
    "print('F1 score: {}'.format(evaluator.evaluate(results_nb.select(['prediction', 'churn']))))\n",
    "print('Best parameter for getSmoothing: {}'.format(nb_model.bestModel.stages[-1]._java_obj.parent().getSmoothing()))"
   ]
  },
  {
   "cell_type": "markdown",
   "metadata": {},
   "source": [
    "# Final Steps\n",
    "Clean up your code, adding comments and renaming variables to make the code easier to read and maintain. Refer to the Spark Project Overview page and Data Scientist Capstone Project Rubric to make sure you are including all components of the capstone project and meet all expectations. Remember, this includes thorough documentation in a README file in a Github repository, as well as a web app or blog post."
   ]
  },
  {
   "cell_type": "code",
   "execution_count": null,
   "metadata": {},
   "outputs": [],
   "source": []
  }
 ],
 "metadata": {
  "kernelspec": {
   "display_name": "Python 3",
   "language": "python",
   "name": "python3"
  },
  "language_info": {
   "codemirror_mode": {
    "name": "ipython",
    "version": 3
   },
   "file_extension": ".py",
   "mimetype": "text/x-python",
   "name": "python",
   "nbconvert_exporter": "python",
   "pygments_lexer": "ipython3",
   "version": "3.6.3"
  }
 },
 "nbformat": 4,
 "nbformat_minor": 2
}
