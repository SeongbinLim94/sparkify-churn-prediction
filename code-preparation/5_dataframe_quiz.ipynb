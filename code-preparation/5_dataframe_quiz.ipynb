{
 "cells": [
  {
   "cell_type": "markdown",
   "metadata": {},
   "source": [
    "# Data Wrangling with DataFrames Coding Quiz\n",
    "\n",
    "Use this Jupyter notebook to find the answers to the quiz in the previous section. There is an answer key in the next part of the lesson."
   ]
  },
  {
   "cell_type": "code",
   "execution_count": 2,
   "metadata": {},
   "outputs": [],
   "source": [
    "from pyspark.sql import SparkSession\n",
    "from pyspark.sql.functions import isnan, count, when, col, desc, udf, col, sort_array, asc, avg\n",
    "from pyspark.sql.functions import sum as Fsum\n",
    "from pyspark.sql.window import Window\n",
    "from pyspark.sql.types import IntegerType\n",
    "# TODOS: \n",
    "# 1) import any other libraries you might need\n",
    "# 2) instantiate a Spark session \n",
    "# 3) read in the data set located at the path \"data/sparkify_log_small.json\"\n",
    "# 4) write code to answer the quiz questions \n",
    "\n",
    "spark = SparkSession \\\n",
    "    .builder \\\n",
    "    .appName(\"DataFrames Practice\") \\\n",
    "    .getOrCreate()\n",
    "\n",
    "df = spark.read.json('data/sparkify_log_small.json')"
   ]
  },
  {
   "cell_type": "markdown",
   "metadata": {},
   "source": [
    "# Question 1\n",
    "\n",
    "Which page did user id \"\" (empty string) NOT visit?"
   ]
  },
  {
   "cell_type": "code",
   "execution_count": 8,
   "metadata": {},
   "outputs": [],
   "source": [
    "# TODO: write your code to answer question 1\n",
    "blank_pages = df.filter(df.userId == '').select('page').dropDuplicates()"
   ]
  },
  {
   "cell_type": "code",
   "execution_count": 9,
   "metadata": {},
   "outputs": [],
   "source": [
    "all_pages = df.select('page').dropDuplicates()"
   ]
  },
  {
   "cell_type": "code",
   "execution_count": 10,
   "metadata": {},
   "outputs": [
    {
     "name": "stdout",
     "output_type": "stream",
     "text": [
      "Save Settings\n",
      "Submit Downgrade\n",
      "Upgrade\n",
      "Submit Upgrade\n",
      "Downgrade\n",
      "NextSong\n",
      "Error\n",
      "Logout\n",
      "Settings\n"
     ]
    }
   ],
   "source": [
    "for row in set(all_pages.collect()) - set(blank_pages.collect()):\n",
    "    print(row.page)"
   ]
  },
  {
   "cell_type": "markdown",
   "metadata": {},
   "source": [
    "# Question 2 - Reflect\n",
    "\n",
    "What type of user does the empty string user id most likely refer to?\n"
   ]
  },
  {
   "cell_type": "code",
   "execution_count": 2,
   "metadata": {},
   "outputs": [],
   "source": [
    "# TODO: use this space to explore the behavior of the user with an empty string\n"
   ]
  },
  {
   "cell_type": "markdown",
   "metadata": {},
   "source": [
    "# Question 3\n",
    "\n",
    "How many female users do we have in the data set?"
   ]
  },
  {
   "cell_type": "code",
   "execution_count": 16,
   "metadata": {},
   "outputs": [
    {
     "data": {
      "text/plain": [
       "462"
      ]
     },
     "execution_count": 16,
     "metadata": {},
     "output_type": "execute_result"
    }
   ],
   "source": [
    "# TODO: write your code to answer question 3\n",
    "df.filter(df.gender == 'F').select('userID').dropDuplicates().count()"
   ]
  },
  {
   "cell_type": "markdown",
   "metadata": {},
   "source": [
    "# Question 4\n",
    "\n",
    "How many songs were played from the most played artist?"
   ]
  },
  {
   "cell_type": "code",
   "execution_count": 13,
   "metadata": {},
   "outputs": [
    {
     "name": "stdout",
     "output_type": "stream",
     "text": [
      "+--------+-----------+\n",
      "|  Artist|Artistcount|\n",
      "+--------+-----------+\n",
      "|Coldplay|         83|\n",
      "+--------+-----------+\n",
      "only showing top 1 row\n",
      "\n"
     ]
    }
   ],
   "source": [
    "# TODO: write your code to answer question 4\n",
    "df.filter(df.page == 'NextSong') \\\n",
    "    .select('Artist') \\\n",
    "    .groupBy('Artist') \\\n",
    "    .agg({'Artist':'count'}) \\\n",
    "    .withColumnRenamed('count(Artist)', 'Artistcount') \\\n",
    "    .sort(desc('Artistcount')) \\\n",
    "    .show(1)"
   ]
  },
  {
   "cell_type": "markdown",
   "metadata": {},
   "source": [
    "# Question 5 (challenge)\n",
    "\n",
    "How many songs do users listen to on average between visiting our home page? Please round your answer to the closest integer.\n",
    "\n"
   ]
  },
  {
   "cell_type": "code",
   "execution_count": 18,
   "metadata": {},
   "outputs": [
    {
     "data": {
      "text/plain": [
       "[Row(userID='1436', page='NextSong', ts=1513783259284, homevisit=0, period=0),\n",
       " Row(userID='1436', page='NextSong', ts=1513782858284, homevisit=0, period=0),\n",
       " Row(userID='2088', page='Home', ts=1513805972284, homevisit=1, period=1),\n",
       " Row(userID='2088', page='NextSong', ts=1513805859284, homevisit=0, period=1),\n",
       " Row(userID='2088', page='NextSong', ts=1513805494284, homevisit=0, period=1),\n",
       " Row(userID='2088', page='NextSong', ts=1513805065284, homevisit=0, period=1),\n",
       " Row(userID='2088', page='NextSong', ts=1513804786284, homevisit=0, period=1),\n",
       " Row(userID='2088', page='NextSong', ts=1513804555284, homevisit=0, period=1),\n",
       " Row(userID='2088', page='NextSong', ts=1513804196284, homevisit=0, period=1),\n",
       " Row(userID='2088', page='NextSong', ts=1513803967284, homevisit=0, period=1),\n",
       " Row(userID='2088', page='NextSong', ts=1513803820284, homevisit=0, period=1),\n",
       " Row(userID='2088', page='NextSong', ts=1513803651284, homevisit=0, period=1),\n",
       " Row(userID='2088', page='NextSong', ts=1513803413284, homevisit=0, period=1),\n",
       " Row(userID='2088', page='NextSong', ts=1513803254284, homevisit=0, period=1),\n",
       " Row(userID='2088', page='NextSong', ts=1513803057284, homevisit=0, period=1),\n",
       " Row(userID='2088', page='NextSong', ts=1513802824284, homevisit=0, period=1),\n",
       " Row(userID='2162', page='NextSong', ts=1513781246284, homevisit=0, period=0),\n",
       " Row(userID='2162', page='NextSong', ts=1513781065284, homevisit=0, period=0),\n",
       " Row(userID='2162', page='NextSong', ts=1513780860284, homevisit=0, period=0),\n",
       " Row(userID='2162', page='NextSong', ts=1513780569284, homevisit=0, period=0)]"
      ]
     },
     "execution_count": 18,
     "metadata": {},
     "output_type": "execute_result"
    }
   ],
   "source": [
    "# TODO: write your code to answer question 5\n",
    "\n",
    "function = udf(lambda ishome : int(ishome == 'Home'), IntegerType())\n",
    "\n",
    "user_window = Window \\\n",
    "    .partitionBy('userID') \\\n",
    "    .orderBy(desc('ts')) \\\n",
    "    .rangeBetween(Window.unboundedPreceding, 0)\n",
    "\n",
    "cusum = df.filter((df.page == 'NextSong') | (df.page == 'Home')) \\\n",
    "    .select('userID', 'page', 'ts') \\\n",
    "    .withColumn('homevisit', function(col('page'))) \\\n",
    "    .withColumn('period', Fsum('homevisit').over(user_window))\n",
    "\n",
    "cusum.head(20)"
   ]
  }
 ],
 "metadata": {
  "kernelspec": {
   "display_name": "Python 3",
   "language": "python",
   "name": "python3"
  },
  "language_info": {
   "codemirror_mode": {
    "name": "ipython",
    "version": 3
   },
   "file_extension": ".py",
   "mimetype": "text/x-python",
   "name": "python",
   "nbconvert_exporter": "python",
   "pygments_lexer": "ipython3",
   "version": "3.6.3"
  }
 },
 "nbformat": 4,
 "nbformat_minor": 2
}
