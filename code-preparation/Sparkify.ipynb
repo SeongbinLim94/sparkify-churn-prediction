{
 "cells": [
  {
   "cell_type": "markdown",
   "metadata": {},
   "source": [
    "# Sparkify Project Workspace\n",
    "This workspace contains a tiny subset (128MB) of the full dataset available (12GB). Feel free to use this workspace to build your project, or to explore a smaller subset with Spark before deploying your cluster on the cloud. Instructions for setting up your Spark cluster is included in the last lesson of the Extracurricular Spark Course content.\n",
    "\n",
    "You can follow the steps below to guide your data analysis and model building portion of this project."
   ]
  },
  {
   "cell_type": "code",
   "execution_count": 2,
   "metadata": {},
   "outputs": [],
   "source": [
    "# import libraries\n",
    "from pyspark.sql import SparkSession\n",
    "from pyspark.sql.functions import isnan, count, when, col, desc, udf, col, sort_array, asc, avg\n",
    "from pyspark.sql.functions import sum as Fsum\n",
    "from pyspark.sql.window import Window\n",
    "from pyspark.sql.types import IntegerType\n",
    "\n",
    "import datetime\n",
    "\n",
    "import numpy as np\n",
    "import pandas as pd\n",
    "%matplotlib inline\n",
    "import matplotlib.pyplot as plt"
   ]
  },
  {
   "cell_type": "code",
   "execution_count": 3,
   "metadata": {},
   "outputs": [],
   "source": [
    "# create a Spark session\n",
    "spark = SparkSession \\\n",
    "    .builder \\\n",
    "    .appName(\"DataFrames Practice\") \\\n",
    "    .getOrCreate()\n",
    "\n",
    "df = spark.read.json('mini_sparkify_event_data.json')"
   ]
  },
  {
   "cell_type": "markdown",
   "metadata": {},
   "source": [
    "# Load and Clean Dataset\n",
    "In this workspace, the mini-dataset file is `mini_sparkify_event_data.json`. Load and clean the dataset, checking for invalid or missing data - for example, records without userids or sessionids. "
   ]
  },
  {
   "cell_type": "code",
   "execution_count": 4,
   "metadata": {},
   "outputs": [
    {
     "data": {
      "text/plain": [
       "[Row(artist='Martha Tilston', auth='Logged In', firstName='Colin', gender='M', itemInSession=50, lastName='Freeman', length=277.89016, level='paid', location='Bakersfield, CA', method='PUT', page='NextSong', registration=1538173362000, sessionId=29, song='Rockpools', status=200, ts=1538352117000, userAgent='Mozilla/5.0 (Windows NT 6.1; WOW64; rv:31.0) Gecko/20100101 Firefox/31.0', userId='30'),\n",
       " Row(artist='Five Iron Frenzy', auth='Logged In', firstName='Micah', gender='M', itemInSession=79, lastName='Long', length=236.09424, level='free', location='Boston-Cambridge-Newton, MA-NH', method='PUT', page='NextSong', registration=1538331630000, sessionId=8, song='Canada', status=200, ts=1538352180000, userAgent='\"Mozilla/5.0 (Windows NT 6.1; WOW64) AppleWebKit/537.36 (KHTML, like Gecko) Chrome/37.0.2062.103 Safari/537.36\"', userId='9'),\n",
       " Row(artist='Adam Lambert', auth='Logged In', firstName='Colin', gender='M', itemInSession=51, lastName='Freeman', length=282.8273, level='paid', location='Bakersfield, CA', method='PUT', page='NextSong', registration=1538173362000, sessionId=29, song='Time For Miracles', status=200, ts=1538352394000, userAgent='Mozilla/5.0 (Windows NT 6.1; WOW64; rv:31.0) Gecko/20100101 Firefox/31.0', userId='30'),\n",
       " Row(artist='Enigma', auth='Logged In', firstName='Micah', gender='M', itemInSession=80, lastName='Long', length=262.71302, level='free', location='Boston-Cambridge-Newton, MA-NH', method='PUT', page='NextSong', registration=1538331630000, sessionId=8, song='Knocking On Forbidden Doors', status=200, ts=1538352416000, userAgent='\"Mozilla/5.0 (Windows NT 6.1; WOW64) AppleWebKit/537.36 (KHTML, like Gecko) Chrome/37.0.2062.103 Safari/537.36\"', userId='9'),\n",
       " Row(artist='Daft Punk', auth='Logged In', firstName='Colin', gender='M', itemInSession=52, lastName='Freeman', length=223.60771, level='paid', location='Bakersfield, CA', method='PUT', page='NextSong', registration=1538173362000, sessionId=29, song='Harder Better Faster Stronger', status=200, ts=1538352676000, userAgent='Mozilla/5.0 (Windows NT 6.1; WOW64; rv:31.0) Gecko/20100101 Firefox/31.0', userId='30')]"
      ]
     },
     "execution_count": 4,
     "metadata": {},
     "output_type": "execute_result"
    }
   ],
   "source": [
    "df.take(5)"
   ]
  },
  {
   "cell_type": "code",
   "execution_count": 5,
   "metadata": {},
   "outputs": [
    {
     "name": "stdout",
     "output_type": "stream",
     "text": [
      "root\n",
      " |-- artist: string (nullable = true)\n",
      " |-- auth: string (nullable = true)\n",
      " |-- firstName: string (nullable = true)\n",
      " |-- gender: string (nullable = true)\n",
      " |-- itemInSession: long (nullable = true)\n",
      " |-- lastName: string (nullable = true)\n",
      " |-- length: double (nullable = true)\n",
      " |-- level: string (nullable = true)\n",
      " |-- location: string (nullable = true)\n",
      " |-- method: string (nullable = true)\n",
      " |-- page: string (nullable = true)\n",
      " |-- registration: long (nullable = true)\n",
      " |-- sessionId: long (nullable = true)\n",
      " |-- song: string (nullable = true)\n",
      " |-- status: long (nullable = true)\n",
      " |-- ts: long (nullable = true)\n",
      " |-- userAgent: string (nullable = true)\n",
      " |-- userId: string (nullable = true)\n",
      "\n"
     ]
    }
   ],
   "source": [
    "df.printSchema()"
   ]
  },
  {
   "cell_type": "code",
   "execution_count": 6,
   "metadata": {},
   "outputs": [
    {
     "data": {
      "text/plain": [
       "8346"
      ]
     },
     "execution_count": 6,
     "metadata": {},
     "output_type": "execute_result"
    }
   ],
   "source": [
    "df.filter(df['userId'] == '').count()"
   ]
  },
  {
   "cell_type": "code",
   "execution_count": 7,
   "metadata": {},
   "outputs": [
    {
     "data": {
      "text/plain": [
       "0"
      ]
     },
     "execution_count": 7,
     "metadata": {},
     "output_type": "execute_result"
    }
   ],
   "source": [
    "df.filter(df['sessionId'] == '').count()"
   ]
  },
  {
   "cell_type": "markdown",
   "metadata": {},
   "source": [
    "# Exploratory Data Analysis\n",
    "When you're working with the full dataset, perform EDA by loading a small subset of the data and doing basic manipulations within Spark. In this workspace, you are already provided a small subset of data you can explore.\n",
    "\n",
    "### Define Churn\n",
    "\n",
    "Once you've done some preliminary analysis, create a column `Churn` to use as the label for your model. I suggest using the `Cancellation Confirmation` events to define your churn, which happen for both paid and free users. As a bonus task, you can also look into the `Downgrade` events.\n",
    "\n",
    "### Explore Data\n",
    "Once you've defined churn, perform some exploratory data analysis to observe the behavior for users who stayed vs users who churned. You can start by exploring aggregates on these two groups of users, observing how much of a specific action they experienced per a certain time unit or number of songs played."
   ]
  },
  {
   "cell_type": "code",
   "execution_count": 8,
   "metadata": {},
   "outputs": [
    {
     "name": "stdout",
     "output_type": "stream",
     "text": [
      "+------+------------+\n",
      "|gender|gender_count|\n",
      "+------+------------+\n",
      "|     F|      154578|\n",
      "|     M|      123576|\n",
      "|  null|           0|\n",
      "+------+------------+\n",
      "\n"
     ]
    }
   ],
   "source": [
    "# Gender distribution\n",
    "df.select('gender') \\\n",
    "    .groupBy('gender') \\\n",
    "    .agg({'gender':'count'}) \\\n",
    "    .withColumnRenamed('count(gender)', 'gender_count') \\\n",
    "    .sort(desc('gender_count')) \\\n",
    "    .show()"
   ]
  },
  {
   "cell_type": "code",
   "execution_count": 9,
   "metadata": {},
   "outputs": [
    {
     "name": "stdout",
     "output_type": "stream",
     "text": [
      "+--------------------+---------+\n",
      "|            location|loc_count|\n",
      "+--------------------+---------+\n",
      "|Los Angeles-Long ...|    30131|\n",
      "|New York-Newark-J...|    23684|\n",
      "|Boston-Cambridge-...|    13873|\n",
      "|Houston-The Woodl...|     9499|\n",
      "|Charlotte-Concord...|     7780|\n",
      "|Dallas-Fort Worth...|     7605|\n",
      "|Louisville/Jeffer...|     6880|\n",
      "|Philadelphia-Camd...|     5890|\n",
      "|Chicago-Napervill...|     5114|\n",
      "|    St. Louis, MO-IL|     4858|\n",
      "|Phoenix-Mesa-Scot...|     4846|\n",
      "|Vineland-Bridgeto...|     4825|\n",
      "|          Wilson, NC|     4659|\n",
      "|Denver-Aurora-Lak...|     4453|\n",
      "|           Ionia, MI|     4428|\n",
      "|San Antonio-New B...|     4373|\n",
      "|        Danville, VA|     4257|\n",
      "|Atlanta-Sandy Spr...|     4236|\n",
      "|New Haven-Milford...|     4007|\n",
      "|         Jackson, MS|     3839|\n",
      "+--------------------+---------+\n",
      "only showing top 20 rows\n",
      "\n"
     ]
    }
   ],
   "source": [
    "# Location distribution\n",
    "df.select('location') \\\n",
    "    .groupBy('location') \\\n",
    "    .agg({'location':'count'}) \\\n",
    "    .withColumnRenamed('count(location)', 'loc_count') \\\n",
    "    .sort(desc('loc_count')) \\\n",
    "    .show()"
   ]
  },
  {
   "cell_type": "code",
   "execution_count": 10,
   "metadata": {},
   "outputs": [
    {
     "name": "stdout",
     "output_type": "stream",
     "text": [
      "+--------------------+-----------+\n",
      "|              Artist|Artistcount|\n",
      "+--------------------+-----------+\n",
      "|       Kings Of Leon|       1841|\n",
      "|            Coldplay|       1813|\n",
      "|Florence + The Ma...|       1236|\n",
      "|       Dwight Yoakam|       1135|\n",
      "|            BjÃÂ¶rk|       1133|\n",
      "|      The Black Keys|       1125|\n",
      "|                Muse|       1090|\n",
      "|       Justin Bieber|       1044|\n",
      "|        Jack Johnson|       1007|\n",
      "|              Eminem|        953|\n",
      "|           Radiohead|        884|\n",
      "|     Alliance Ethnik|        876|\n",
      "|               Train|        854|\n",
      "|        Taylor Swift|        840|\n",
      "|         OneRepublic|        828|\n",
      "|         The Killers|        822|\n",
      "|         Linkin Park|        787|\n",
      "|         Evanescence|        781|\n",
      "|            Harmonia|        729|\n",
      "|       Guns N' Roses|        713|\n",
      "+--------------------+-----------+\n",
      "only showing top 20 rows\n",
      "\n"
     ]
    }
   ],
   "source": [
    "# Artist Popularity\n",
    "df.filter(df.page == 'NextSong') \\\n",
    "    .select('Artist') \\\n",
    "    .groupBy('Artist') \\\n",
    "    .agg({'Artist':'count'}) \\\n",
    "    .withColumnRenamed('count(Artist)', 'Artistcount') \\\n",
    "    .sort(desc('Artistcount')) \\\n",
    "    .show()"
   ]
  },
  {
   "cell_type": "code",
   "execution_count": 11,
   "metadata": {},
   "outputs": [
    {
     "name": "stdout",
     "output_type": "stream",
     "text": [
      "+-----+---------+\n",
      "|level|lev_count|\n",
      "+-----+---------+\n",
      "| paid|   228162|\n",
      "| free|    58338|\n",
      "+-----+---------+\n",
      "\n"
     ]
    }
   ],
   "source": [
    "# Level distribution\n",
    "df.select('level') \\\n",
    "    .groupBy('level') \\\n",
    "    .agg({'level':'count'}) \\\n",
    "    .withColumnRenamed('count(level)', 'lev_count') \\\n",
    "    .sort(desc('lev_count')) \\\n",
    "    .show()"
   ]
  },
  {
   "cell_type": "code",
   "execution_count": 14,
   "metadata": {},
   "outputs": [],
   "source": [
    "# Registration distribution\n",
    "get_month = udf(lambda x: datetime.datetime.fromtimestamp(x / 1000.0).month)\n",
    "df = df.withColumn(\"month\", get_month(df.ts))"
   ]
  },
  {
   "cell_type": "code",
   "execution_count": 15,
   "metadata": {},
   "outputs": [
    {
     "name": "stdout",
     "output_type": "stream",
     "text": [
      "+-----+---------------+\n",
      "|month|reg_month_count|\n",
      "+-----+---------------+\n",
      "|   10|         149434|\n",
      "|   11|         137062|\n",
      "|   12|              4|\n",
      "+-----+---------------+\n",
      "\n"
     ]
    }
   ],
   "source": [
    "df.select('month') \\\n",
    "    .groupBy('month') \\\n",
    "    .agg({'month': 'count'}) \\\n",
    "    .withColumnRenamed('count(month)', 'reg_month_count') \\\n",
    "    .sort(desc('reg_month_count')) \\\n",
    "    .show()"
   ]
  },
  {
   "cell_type": "markdown",
   "metadata": {},
   "source": [
    "**Define & Separate Churn from the Dataframe**"
   ]
  },
  {
   "cell_type": "code",
   "execution_count": 85,
   "metadata": {},
   "outputs": [],
   "source": [
    "churn_record = df.filter((df['page']=='Cancellation Confirmation') | (df['page']=='Submit Downgrade')) \\\n",
    "                    .dropDuplicates(['userId'])\n",
    "\n",
    "churn_users = churn_record.select('userId') \\\n",
    "                .rdd.flatMap(lambda x: x) \\\n",
    "                .collect()\n",
    "\n",
    "df_churn = df.filter(df['userId'].isin(churn_users))\n",
    "df_not_churn = df.filter(~df['userId'].isin(churn_users))"
   ]
  },
  {
   "cell_type": "code",
   "execution_count": 153,
   "metadata": {},
   "outputs": [],
   "source": [
    "cancel_record = df.filter(df['page']=='Cancellation Confirmation')\n",
    "\n",
    "canceled_users = cancel_record.select('userId') \\\n",
    "                    .rdd.flatMap(lambda x: x) \\\n",
    "                    .collect()\n",
    "\n",
    "df_cancel = df.filter(df['userId'].isin(canceled_users))"
   ]
  },
  {
   "cell_type": "code",
   "execution_count": 217,
   "metadata": {},
   "outputs": [],
   "source": [
    "paid_users = df.filter(df['level']=='paid') \\\n",
    "                .select('userId') \\\n",
    "                .rdd.flatMap(lambda x: x) \\\n",
    "                .collect()\n",
    "\n",
    "df_paid = df.filter(df['userId'].isin(paid_users))"
   ]
  },
  {
   "cell_type": "markdown",
   "metadata": {},
   "source": [
    "**Visualization**"
   ]
  },
  {
   "cell_type": "code",
   "execution_count": 180,
   "metadata": {},
   "outputs": [
    {
     "data": {
      "image/png": "[encoded data removed]",
      "text/plain": [
       "<matplotlib.figure.Figure at 0x7fc9dc0d6908>"
      ]
     },
     "metadata": {
      "needs_background": "light"
     },
     "output_type": "display_data"
    }
   ],
   "source": [
    "# Gender Ratio\n",
    "churn_gender_pd = df_churn.groupBy('gender').count().toPandas()\n",
    "not_churn_gender_pd = df_not_churn.groupBy('gender').count().toPandas().drop(1, axis=0)\n",
    "\n",
    "not_churn_gender_pd['ratio'] = not_churn_gender_pd['count'] / not_churn_gender_pd['count'].sum()\n",
    "churn_gender_pd['ratio'] = churn_gender_pd['count'] / churn_gender_pd['count'].sum()\n",
    "\n",
    "label = churn_gender_pd['gender'].tolist()\n",
    "index = np.arange(len(label))\n",
    "bar_width = 0.4\n",
    "\n",
    "plt.figure(figsize=(9, 4))\n",
    "\n",
    "p1 = plt.bar(index, churn_gender_pd['ratio'],\n",
    "             width = bar_width,\n",
    "             color = 'blue',\n",
    "             alpha = 0.5)\n",
    "\n",
    "p2 = plt.bar(index + bar_width, not_churn_gender_pd['ratio'],\n",
    "             width = bar_width,\n",
    "             color = 'red',\n",
    "             alpha = 0.5)\n",
    "\n",
    "plt.title('Dodged Bar Chart of Ratio of Gender by Churn', fontsize=20)\n",
    "plt.ylabel('Ratio', fontsize=15)\n",
    "plt.xlabel('Gender', fontsize=15)\n",
    "plt.xticks(index + bar_width/2, label, fontsize=15)\n",
    "plt.legend((p1[0], p2[0]), ('Churn', 'Current'), loc='upper right', fontsize=10)\n",
    "\n",
    "\n",
    "plt.show()"
   ]
  },
  {
   "cell_type": "code",
   "execution_count": 181,
   "metadata": {},
   "outputs": [
    {
     "data": {
      "image/png": "[encoded data removed]",
      "text/plain": [
       "<matplotlib.figure.Figure at 0x7fc9d5452588>"
      ]
     },
     "metadata": {
      "needs_background": "light"
     },
     "output_type": "display_data"
    }
   ],
   "source": [
    "# Location Ratio\n",
    "churn_loc_pd = df_churn.groupBy('location').count().toPandas()\n",
    "not_churn_loc_pd = df_not_churn.groupBy('location').count().toPandas()\n",
    "\n",
    "top3_loc_churn = churn_loc_pd.sort_values('count', ascending=False).head(3)\n",
    "top3_loc_not_churn = not_churn_loc_pd.sort_values('count', ascending=False).head(3)\n",
    "\n",
    "top3_loc_churn['ratio'] = top3_loc_churn['count'] / top3_loc_churn['count'].sum()\n",
    "top3_loc_not_churn['ratio'] = top3_loc_not_churn['count'] / top3_loc_not_churn['count'].sum()\n",
    "\n",
    "label_churn = top3_loc_churn['location'].tolist()\n",
    "label_not_churn = top3_loc_not_churn['location'].tolist()\n",
    "\n",
    "index_churn = np.arange(len(label_churn))\n",
    "index_not_churn = np.arange(len(label_not_churn))\n",
    "\n",
    "fig = plt.figure(figsize=(20, 10))\n",
    "\n",
    "fig.subplots_adjust(wspace=4)\n",
    "\n",
    "p1 = fig.add_subplot(1, 2, 1)\n",
    "p2 = fig.add_subplot(1, 2, 2)\n",
    "\n",
    "p1.bar(index_churn, top3_loc_churn['ratio'],\n",
    "       width = 0.35,\n",
    "       color = 'blue',\n",
    "       alpha = 0.5)\n",
    "p1.set_title(\"Top 3 Locations of Churned Customers\", fontsize=20)\n",
    "plt.setp(p1, xticks=index_churn, xticklabels=label_churn, yticks=[0, 0.3, max(top3_loc_churn['ratio'])])\n",
    "p1.set_xticklabels(label_churn, rotation=30)\n",
    "\n",
    "p2.bar(index_not_churn, top3_loc_not_churn['ratio'],\n",
    "       width = 0.35,\n",
    "       color = 'red',\n",
    "       alpha = 0.5)\n",
    "p2.set_title(\"Top 3 Locations of Current Custommers\", fontsize=20)\n",
    "plt.setp(p2, xticks=index_not_churn, xticklabels=label_not_churn, yticks=[0, 0.3, max(top3_loc_not_churn['ratio'])])\n",
    "p2.set_xticklabels(label_not_churn, rotation=30)\n",
    "\n",
    "plt.tight_layout()\n",
    "plt.show()"
   ]
  },
  {
   "cell_type": "code",
   "execution_count": 182,
   "metadata": {},
   "outputs": [
    {
     "data": {
      "image/png": "[encoded data removed]",
      "text/plain": [
       "<matplotlib.figure.Figure at 0x7fc9d56e9780>"
      ]
     },
     "metadata": {
      "needs_background": "light"
     },
     "output_type": "display_data"
    }
   ],
   "source": [
    "# User Behavior - Usage of Sparkify\n",
    "churn_usage = df_churn.filter(df_churn.page == 'NextSong') \\\n",
    "                .select('userId') \\\n",
    "                .groupBy('userId') \\\n",
    "                .agg({'userId':'count'}) \\\n",
    "                .withColumnRenamed('count(userId)', 'usage_count') \\\n",
    "                .sort(desc('usage_count')) \\\n",
    "                .toPandas()\n",
    "\n",
    "not_churn_usage = df_not_churn.filter(df_not_churn.page == 'NextSong') \\\n",
    "                    .select('userId') \\\n",
    "                    .groupBy('userId') \\\n",
    "                    .agg({'userId':'count'}) \\\n",
    "                    .withColumnRenamed('count(userId)', 'usage_count') \\\n",
    "                    .sort(desc('usage_count')) \\\n",
    "                    .toPandas()\n",
    "\n",
    "churn_TAU = churn_usage.usage_count.sum() / churn_usage.userId.count()\n",
    "current_TAU = not_churn_usage.usage_count.sum() / not_churn_usage.userId.count()\n",
    "label = ['Churn', 'Current']\n",
    "bar_width =0.4\n",
    "\n",
    "plt.figure(figsize=(6, 4))\n",
    "plot = plt.bar(label, [churn_TAU, current_TAU],\n",
    "               color=['blue', 'red'],\n",
    "               alpha=0.5,\n",
    "               width=bar_width)\n",
    "\n",
    "plt.title('Total Average Usages of Type of Users', fontsize=20)\n",
    "plt.ylabel('TAU', fontsize=15)\n",
    "plt.xlabel('Type of Users', fontsize = 15)\n",
    "plt.legend((plot[0], plot[1]), ('Churn', 'Current'), loc='upper right', fontsize=10)\n",
    "\n",
    "plt.show()"
   ]
  },
  {
   "cell_type": "code",
   "execution_count": 183,
   "metadata": {},
   "outputs": [
    {
     "data": {
      "image/png": "[encoded data removed]",
      "text/plain": [
       "<matplotlib.figure.Figure at 0x7fc9d54527b8>"
      ]
     },
     "metadata": {
      "needs_background": "light"
     },
     "output_type": "display_data"
    }
   ],
   "source": [
    "# Status of usage when users cancel sparkify service\n",
    "fr_cancel_num = df_cancel.filter((df_cancel['page']==\"Cancellation Confirmation\") & (df_cancel['level']==\"free\")) \\\n",
    "                .select('userId') \\\n",
    "                .count()\n",
    "pr_cancel_num = df_cancel.filter((df_cancel['page']==\"Cancellation Confirmation\") & (df_cancel['level']==\"paid\")) \\\n",
    "                .select('userId') \\\n",
    "                .count()\n",
    "\n",
    "label = ['Free', 'Premium']\n",
    "bar_width = 0.4\n",
    "\n",
    "plt.figure(figsize=(6, 4))\n",
    "\n",
    "plot = plt.bar(label, [fr_cancel_num, pr_cancel_num],\n",
    "               color=['blue', 'red'],\n",
    "               alpha=0.5,\n",
    "               width=bar_width)\n",
    "\n",
    "plt.title('Status of Usage When Users Cancel', fontsize=20)\n",
    "plt.ylabel('Count of Users', fontsize=15)\n",
    "plt.xlabel('Type of Usage', fontsize = 15)\n",
    "plt.legend((plot[0], plot[1]), ('Free', 'Premium'), loc='upper left', fontsize=10)\n",
    "\n",
    "plt.show()"
   ]
  },
  {
   "cell_type": "code",
   "execution_count": 219,
   "metadata": {},
   "outputs": [
    {
     "data": {
      "image/png": "[encoded data removed]",
      "text/plain": [
       "<matplotlib.figure.Figure at 0x7fc9c136ee48>"
      ]
     },
     "metadata": {
      "needs_background": "light"
     },
     "output_type": "display_data"
    }
   ],
   "source": [
    "# Status of usage when paid users cancel sparkify service\n",
    "fr_cancel_num = df_paid.filter((df_paid['page']==\"Cancellation Confirmation\") & (df_paid['level']==\"free\")) \\\n",
    "                .select('userId') \\\n",
    "                .count()\n",
    "pr_cancel_num = df_paid.filter((df_paid['page']==\"Cancellation Confirmation\") & (df_paid['level']==\"paid\")) \\\n",
    "                .select('userId') \\\n",
    "                .count()\n",
    "\n",
    "label = ['Free', 'Premium']\n",
    "bar_width = 0.4\n",
    "\n",
    "plt.figure(figsize=(6, 4))\n",
    "\n",
    "plot = plt.bar(label, [fr_cancel_num, pr_cancel_num],\n",
    "               color=['blue', 'red'],\n",
    "               alpha=0.5,\n",
    "               width=bar_width)\n",
    "\n",
    "plt.title('Status of Usage When Users Cancel', fontsize=20)\n",
    "plt.ylabel('Count of Users', fontsize=15)\n",
    "plt.xlabel('Type of Usage', fontsize = 15)\n",
    "plt.legend((plot[0], plot[1]), ('Free', 'Premium'), loc='upper left', fontsize=10)\n",
    "\n",
    "plt.show()"
   ]
  },
  {
   "cell_type": "code",
   "execution_count": 216,
   "metadata": {},
   "outputs": [
    {
     "data": {
      "image/png": "[encoded data removed]",
      "text/plain": [
       "<matplotlib.figure.Figure at 0x7fc9d53b40f0>"
      ]
     },
     "metadata": {
      "needs_background": "light"
     },
     "output_type": "display_data"
    }
   ],
   "source": [
    "# The frequency of accessing Downgrade page\n",
    "d_page_access_churn = df_churn.filter(df_churn['page']=='Downgrade') \\\n",
    "                        .select('userId') \\\n",
    "                        .groupBy('userId') \\\n",
    "                        .agg({'userId':'count'}) \\\n",
    "                        .withColumnRenamed('count(userId)', 'downgrade page access') \\\n",
    "                        .toPandas()\n",
    "    \n",
    "d_page_access_current = df_not_churn.filter(df_churn['page']=='Downgrade') \\\n",
    "                        .select('userId') \\\n",
    "                        .groupBy('userId') \\\n",
    "                        .agg({'userId':'count'}) \\\n",
    "                        .withColumnRenamed('count(userId)', 'downgrade page access') \\\n",
    "                        .toPandas()\n",
    "\n",
    "d_frequency_churn = d_page_access_churn['downgrade page access'].sum() / d_page_access_churn.shape[0]\n",
    "d_frequency_current = d_page_access_current['downgrade page access'].sum() / d_page_access_current.shape[0]\n",
    "\n",
    "label = ['Churn', 'Current']\n",
    "bar_width = 0.4\n",
    "\n",
    "plt.figure(figsize=(8, 6))\n",
    "\n",
    "plot = plt.bar(label, [d_frequency_churn, d_frequency_current],\n",
    "               color=['blue', 'red'],\n",
    "               alpha=0.5,\n",
    "               width=bar_width)\n",
    "\n",
    "plt.title('Frequency of accessing Downgrade page', fontsize=20)\n",
    "plt.ylabel('Average Access', fontsize=15)\n",
    "plt.xlabel('Type of Users', fontsize = 15)\n",
    "plt.legend((plot[0], plot[1]), ('Churn', 'Current'), loc='upper right', fontsize=10)\n",
    "\n",
    "plt.show()"
   ]
  },
  {
   "cell_type": "markdown",
   "metadata": {},
   "source": [
    "# Feature Engineering\n",
    "Once you've familiarized yourself with the data, build out the features you find promising to train your model on. To work with the full dataset, you can follow the following steps.\n",
    "- Write a script to extract the necessary features from the smaller subset of data\n",
    "- Ensure that your script is scalable, using the best practices discussed in Lesson 3\n",
    "- Try your script on the full data set, debugging your script if necessary\n",
    "\n",
    "If you are working in the classroom workspace, you can just extract features based on the small subset of data contained here. Be sure to transfer over this work to the larger dataset when you work on your Spark cluster."
   ]
  },
  {
   "cell_type": "markdown",
   "metadata": {},
   "source": [
    "# Modeling\n",
    "Split the full dataset into train, test, and validation sets. Test out several of the machine learning methods you learned. Evaluate the accuracy of the various models, tuning parameters as necessary. Determine your winning model based on test accuracy and report results on the validation set. Since the churned users are a fairly small subset, I suggest using F1 score as the metric to optimize."
   ]
  },
  {
   "cell_type": "code",
   "execution_count": null,
   "metadata": {},
   "outputs": [],
   "source": []
  },
  {
   "cell_type": "markdown",
   "metadata": {},
   "source": [
    "# Final Steps\n",
    "Clean up your code, adding comments and renaming variables to make the code easier to read and maintain. Refer to the Spark Project Overview page and Data Scientist Capstone Project Rubric to make sure you are including all components of the capstone project and meet all expectations. Remember, this includes thorough documentation in a README file in a Github repository, as well as a web app or blog post."
   ]
  },
  {
   "cell_type": "code",
   "execution_count": null,
   "metadata": {},
   "outputs": [],
   "source": []
  }
 ],
 "metadata": {
  "kernelspec": {
   "display_name": "Python 3",
   "language": "python",
   "name": "python3"
  },
  "language_info": {
   "codemirror_mode": {
    "name": "ipython",
    "version": 3
   },
   "file_extension": ".py",
   "mimetype": "text/x-python",
   "name": "python",
   "nbconvert_exporter": "python",
   "pygments_lexer": "ipython3",
   "version": "3.6.3"
  }
 },
 "nbformat": 4,
 "nbformat_minor": 2
}
