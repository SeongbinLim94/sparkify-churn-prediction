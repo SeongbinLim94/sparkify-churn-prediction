{
 "cells": [
  {
   "cell_type": "markdown",
   "metadata": {},
   "source": [
    "# Data Loading & Wrangling"
   ]
  },
  {
   "cell_type": "code",
   "execution_count": 1,
   "metadata": {},
   "outputs": [],
   "source": [
    "# import libraries\n",
    "from pyspark.sql import SparkSession\n",
    "from pyspark.sql.functions import isnan, count, when, col, desc, udf, col, sort_array, asc, avg, lit\n",
    "from pyspark.sql.functions import sum as Fsum\n",
    "from pyspark.sql.window import Window\n",
    "from pyspark.sql.types import IntegerType\n",
    "\n",
    "import datetime\n",
    "\n",
    "import numpy as np\n",
    "import pandas as pd\n",
    "%matplotlib inline\n",
    "import matplotlib.pyplot as plt\n",
    "\n",
    "from pyspark.ml.feature import StringIndexer\n",
    "from pyspark.ml.feature import VectorAssembler\n",
    "from pyspark.ml.feature import MinMaxScaler\n",
    "from pyspark.ml.feature import PCA\n",
    "from pyspark.ml.classification import LogisticRegression\n",
    "from pyspark.ml import Pipeline\n",
    "from pyspark.ml.evaluation import MulticlassClassificationEvaluator\n",
    "from pyspark.ml.tuning import CrossValidator, ParamGridBuilder\n",
    "from pyspark.ml.classification import GBTClassifier\n",
    "from pyspark.ml.classification import NaiveBayes\n",
    "from pyspark.ml.classification import LinearSVC"
   ]
  },
  {
   "cell_type": "code",
   "execution_count": 3,
   "metadata": {},
   "outputs": [],
   "source": [
    "# Create Spark Session\n",
    "spark = SparkSession \\\n",
    "    .builder \\\n",
    "    .appName(\"DataFrames Practice\") \\\n",
    "    .getOrCreate()\n",
    "\n",
    "df = spark.read.json('../data/medium-sparkify-event-data.json')"
   ]
  },
  {
   "cell_type": "code",
   "execution_count": 4,
   "metadata": {},
   "outputs": [
    {
     "name": "stdout",
     "output_type": "stream",
     "text": [
      "543705 18\n"
     ]
    }
   ],
   "source": [
    "# Shape of raw data (rows, columns)\n",
    "print(df.count(), len(df.columns))"
   ]
  },
  {
   "cell_type": "code",
   "execution_count": 5,
   "metadata": {},
   "outputs": [
    {
     "data": {
      "text/plain": [
       "15700"
      ]
     },
     "execution_count": 5,
     "metadata": {},
     "output_type": "execute_result"
    }
   ],
   "source": [
    "# Users not signed up yet\n",
    "df.filter(df['userId']=='').count()"
   ]
  },
  {
   "cell_type": "code",
   "execution_count": 6,
   "metadata": {},
   "outputs": [],
   "source": [
    "# Clean Data : Those users not signed up yet are excluded\n",
    "df = df.filter(df['userId']!='')"
   ]
  },
  {
   "cell_type": "code",
   "execution_count": 5,
   "metadata": {},
   "outputs": [],
   "source": [
    "# Filter Churned users and separate them from current users\n",
    "churn_record = df.filter((df['page']=='Cancellation Confirmation') | (df['page']=='Submit Downgrade')) \\\n",
    "                    .dropDuplicates(['userId'])\n",
    "\n",
    "churn_users = churn_record.select('userId') \\\n",
    "                .rdd.flatMap(lambda x: x) \\\n",
    "                .collect()\n",
    "\n",
    "df_churn = df.filter(df['userId'].isin(churn_users))\n",
    "df_not_churn = df.filter(~df['userId'].isin(churn_users))\n",
    "\n",
    "# Create Churn Column and represent 1 if a user is a churned user\n",
    "df_churn = df_churn.withColumn(\"churn\", lit(1))\n",
    "df_not_churn = df_not_churn.withColumn(\"churn\", lit(0))"
   ]
  },
  {
   "cell_type": "code",
   "execution_count": 6,
   "metadata": {},
   "outputs": [],
   "source": [
    "# Filter users who have cancellation log\n",
    "cancel_record = df.filter(df['page']=='Cancellation Confirmation')\n",
    "\n",
    "canceled_users = cancel_record.select('userId') \\\n",
    "                    .rdd.flatMap(lambda x: x) \\\n",
    "                    .collect()\n",
    "\n",
    "df_cancel = df.filter(df['userId'].isin(canceled_users))"
   ]
  },
  {
   "cell_type": "code",
   "execution_count": 7,
   "metadata": {},
   "outputs": [],
   "source": [
    "# Filter users who have experience in premium service\n",
    "paid_users = df.filter(df['level']=='paid') \\\n",
    "                .select('userId') \\\n",
    "                .rdd.flatMap(lambda x: x) \\\n",
    "                .collect()\n",
    "\n",
    "df_paid = df.filter(df['userId'].isin(paid_users))"
   ]
  },
  {
   "cell_type": "markdown",
   "metadata": {},
   "source": [
    "# Data Exploration & Visualization"
   ]
  },
  {
   "cell_type": "code",
   "execution_count": 8,
   "metadata": {},
   "outputs": [
    {
     "data": {
      "image/png": "[encoded data removed]",
      "text/plain": [
       "<Figure size 648x288 with 1 Axes>"
      ]
     },
     "metadata": {
      "needs_background": "light"
     },
     "output_type": "display_data"
    }
   ],
   "source": [
    "# Gender Ratio\n",
    "churn_gender_pd = df_churn.groupBy('gender').count().toPandas()\n",
    "not_churn_gender_pd = df_not_churn.groupBy('gender').count().toPandas()\n",
    "\n",
    "not_churn_gender_pd['ratio'] = not_churn_gender_pd['count'] / not_churn_gender_pd['count'].sum()\n",
    "churn_gender_pd['ratio'] = churn_gender_pd['count'] / churn_gender_pd['count'].sum()\n",
    "\n",
    "label = churn_gender_pd['gender'].tolist()\n",
    "index = np.arange(len(label))\n",
    "bar_width = 0.4\n",
    "\n",
    "plt.figure(figsize=(9, 4))\n",
    "\n",
    "p1 = plt.bar(index, churn_gender_pd['ratio'],\n",
    "             width = bar_width,\n",
    "             color = 'blue',\n",
    "             alpha = 0.5)\n",
    "\n",
    "p2 = plt.bar(index + bar_width, not_churn_gender_pd['ratio'],\n",
    "             width = bar_width,\n",
    "             color = 'red',\n",
    "             alpha = 0.5)\n",
    "\n",
    "plt.title('Dodged Bar Chart of Ratio of Gender by Churn', fontsize=20)\n",
    "plt.ylabel('Ratio', fontsize=15)\n",
    "plt.xlabel('Gender', fontsize=15)\n",
    "plt.xticks(index + bar_width/2, label, fontsize=15)\n",
    "plt.legend((p1[0], p2[0]), ('Churn', 'Current'), loc='upper right', fontsize=10)\n",
    "\n",
    "plt.show()\n",
    "\n",
    "print(churn_gender_pd['count'] / churn_gender_pd['count'].sum())\n",
    "print(not_churn_gender_pd['count'] / not_churn_gender_pd['count'].sum()) "
   ]
  },
  {
   "cell_type": "code",
   "execution_count": 9,
   "metadata": {},
   "outputs": [
    {
     "data": {
      "image/png": "[encoded data removed]",
      "text/plain": [
       "<Figure size 1440x720 with 2 Axes>"
      ]
     },
     "metadata": {
      "needs_background": "light"
     },
     "output_type": "display_data"
    }
   ],
   "source": [
    "# Location Ratio\n",
    "churn_loc_pd = df_churn.groupBy('location').count().toPandas()\n",
    "not_churn_loc_pd = df_not_churn.groupBy('location').count().toPandas()\n",
    "\n",
    "top3_loc_churn = churn_loc_pd.sort_values('count', ascending=False).head(3)\n",
    "top3_loc_not_churn = not_churn_loc_pd.sort_values('count', ascending=False).head(3)\n",
    "\n",
    "top3_loc_churn['ratio'] = top3_loc_churn['count'] / top3_loc_churn['count'].sum()\n",
    "top3_loc_not_churn['ratio'] = top3_loc_not_churn['count'] / top3_loc_not_churn['count'].sum()\n",
    "\n",
    "label_churn = top3_loc_churn['location'].tolist()\n",
    "label_not_churn = top3_loc_not_churn['location'].tolist()\n",
    "\n",
    "index_churn = np.arange(len(label_churn))\n",
    "index_not_churn = np.arange(len(label_not_churn))\n",
    "\n",
    "fig = plt.figure(figsize=(20, 10))\n",
    "\n",
    "fig.subplots_adjust(wspace=4)\n",
    "\n",
    "p1 = fig.add_subplot(1, 2, 1)\n",
    "p2 = fig.add_subplot(1, 2, 2)\n",
    "\n",
    "p1.bar(index_churn, top3_loc_churn['ratio'],\n",
    "       width = 0.35,\n",
    "       color = 'blue',\n",
    "       alpha = 0.5)\n",
    "p1.set_title(\"Top 3 Locations of Churned Customers\", fontsize=20)\n",
    "plt.setp(p1, xticks=index_churn, xticklabels=label_churn, yticks=[0, 0.3, max(top3_loc_churn['ratio'])])\n",
    "p1.set_xticklabels(label_churn, rotation=30)\n",
    "\n",
    "p2.bar(index_not_churn, top3_loc_not_churn['ratio'],\n",
    "       width = 0.35,\n",
    "       color = 'red',\n",
    "       alpha = 0.5)\n",
    "p2.set_title(\"Top 3 Locations of Current Custommers\", fontsize=20)\n",
    "plt.setp(p2, xticks=index_not_churn, xticklabels=label_not_churn, yticks=[0, 0.3, max(top3_loc_not_churn['ratio'])])\n",
    "p2.set_xticklabels(label_not_churn, rotation=30)\n",
    "\n",
    "plt.tight_layout()\n",
    "plt.show()\n",
    "\n",
    "print(top3_loc_churn['count'] / top3_loc_churn['count'].sum())\n",
    "print(top3_loc_not_churn['count'] / top3_loc_not_churn['count'].sum())"
   ]
  },
  {
   "cell_type": "code",
   "execution_count": 10,
   "metadata": {},
   "outputs": [
    {
     "data": {
      "image/png": "[encoded data removed]",
      "text/plain": [
       "<Figure size 432x288 with 1 Axes>"
      ]
     },
     "metadata": {
      "needs_background": "light"
     },
     "output_type": "display_data"
    }
   ],
   "source": [
    "# User Behavior - Usage of Sparkify\n",
    "churn_usage = df_churn.filter(df_churn.page == 'NextSong') \\\n",
    "                .select('userId') \\\n",
    "                .groupBy('userId') \\\n",
    "                .agg({'userId':'count'}) \\\n",
    "                .withColumnRenamed('count(userId)', 'usage_count') \\\n",
    "                .sort(desc('usage_count')) \\\n",
    "                .toPandas()\n",
    "\n",
    "not_churn_usage = df_not_churn.filter(df_not_churn.page == 'NextSong') \\\n",
    "                    .select('userId') \\\n",
    "                    .groupBy('userId') \\\n",
    "                    .agg({'userId':'count'}) \\\n",
    "                    .withColumnRenamed('count(userId)', 'usage_count') \\\n",
    "                    .sort(desc('usage_count')) \\\n",
    "                    .toPandas()\n",
    "\n",
    "churn_TAU = churn_usage.usage_count.sum() / churn_usage.userId.count()\n",
    "current_TAU = not_churn_usage.usage_count.sum() / not_churn_usage.userId.count()\n",
    "label = ['Churn', 'Current']\n",
    "bar_width =0.4\n",
    "\n",
    "plt.figure(figsize=(6, 4))\n",
    "plot = plt.bar(label, [churn_TAU, current_TAU],\n",
    "               color=['blue', 'red'],\n",
    "               alpha=0.5,\n",
    "               width=bar_width)\n",
    "\n",
    "plt.title('Total Average Usages of Type of Users', fontsize=20)\n",
    "plt.ylabel('TAU', fontsize=15)\n",
    "plt.xlabel('Type of Users', fontsize = 15)\n",
    "plt.legend((plot[0], plot[1]), ('Churn', 'Current'), loc='upper right', fontsize=10)\n",
    "\n",
    "plt.show()\n",
    "\n",
    "print(churn_usage.usage_count.sum() / churn_usage.userId.count())\n",
    "print(not_churn_usage.usage_count.sum() / not_churn_usage.userId.count())"
   ]
  },
  {
   "cell_type": "code",
   "execution_count": 129,
   "metadata": {},
   "outputs": [
    {
     "data": {
      "image/png": "[encoded data removed]",
      "text/plain": [
       "<Figure size 432x288 with 1 Axes>"
      ]
     },
     "metadata": {
      "needs_background": "light"
     },
     "output_type": "display_data"
    }
   ],
   "source": [
    "# Status of usage when users cancel Sparkify service\n",
    "fr_cancel_num = df_cancel.filter((df_cancel['page']==\"Cancellation Confirmation\") & (df_cancel['level']==\"free\")) \\\n",
    "                .select('userId') \\\n",
    "                .count()\n",
    "pr_cancel_num = df_cancel.filter((df_cancel['page']==\"Cancellation Confirmation\") & (df_cancel['level']==\"paid\")) \\\n",
    "                .select('userId') \\\n",
    "                .count()\n",
    "\n",
    "label = ['Free', 'Premium']\n",
    "bar_width = 0.4\n",
    "\n",
    "plt.figure(figsize=(6, 4))\n",
    "\n",
    "plot = plt.bar(label, [fr_cancel_num, pr_cancel_num],\n",
    "               color=['blue', 'red'],\n",
    "               alpha=0.5,\n",
    "               width=bar_width)\n",
    "\n",
    "plt.title('Status of Usage When Users Cancel Sparkify', fontsize=15)\n",
    "plt.ylabel('Count of Users', fontsize=15)\n",
    "plt.xlabel('Type of Usage', fontsize = 15)\n",
    "plt.legend((plot[0], plot[1]), ('Free', 'Premium'), loc='upper left', fontsize=10)\n",
    "\n",
    "plt.show()\n",
    "\n",
    "print(fr_cancel_num, pr_cancel_num)"
   ]
  },
  {
   "cell_type": "code",
   "execution_count": 132,
   "metadata": {},
   "outputs": [
    {
     "data": {
      "image/png": "[encoded data removed]",
      "text/plain": [
       "<Figure size 432x288 with 1 Axes>"
      ]
     },
     "metadata": {
      "needs_background": "light"
     },
     "output_type": "display_data"
    }
   ],
   "source": [
    "# Status of usage when paid users cancel Sparkify service\n",
    "fr_cancel_num2 = df_paid.filter((df_paid['page']==\"Cancellation Confirmation\") & (df_paid['level']==\"free\")) \\\n",
    "                .select('userId') \\\n",
    "                .count()\n",
    "pr_cancel_num2 = df_paid.filter((df_paid['page']==\"Cancellation Confirmation\") & (df_paid['level']==\"paid\")) \\\n",
    "                .select('userId') \\\n",
    "                .count()\n",
    "\n",
    "label = ['Free', 'Premium']\n",
    "bar_width = 0.4\n",
    "\n",
    "plt.figure(figsize=(6, 4))\n",
    "\n",
    "plot = plt.bar(label, [fr_cancel_num2, pr_cancel_num2],\n",
    "               color=['blue', 'red'],\n",
    "               alpha=0.5,\n",
    "               width=bar_width)\n",
    "\n",
    "plt.title('Status of Usage When Paid Users Cancel Sparkify', fontsize=15)\n",
    "plt.ylabel('Count of Users', fontsize=15)\n",
    "plt.xlabel('Type of Usage', fontsize = 15)\n",
    "plt.legend((plot[0], plot[1]), ('Free', 'Premium'), loc='upper left', fontsize=10)\n",
    "\n",
    "plt.show()\n",
    "\n",
    "print(fr_cancel_num2, pr_cancel_num2)"
   ]
  },
  {
   "cell_type": "code",
   "execution_count": 13,
   "metadata": {},
   "outputs": [
    {
     "data": {
      "image/png": "[encoded data removed]",
      "text/plain": [
       "<Figure size 576x432 with 1 Axes>"
      ]
     },
     "metadata": {
      "needs_background": "light"
     },
     "output_type": "display_data"
    }
   ],
   "source": [
    "# The frequency of accessing Downgrade page\n",
    "d_page_access_churn = df_churn.filter(df_churn['page']=='Downgrade') \\\n",
    "                        .select('userId') \\\n",
    "                        .groupBy('userId') \\\n",
    "                        .agg({'userId':'count'}) \\\n",
    "                        .withColumnRenamed('count(userId)', 'downgrade page access') \\\n",
    "                        .toPandas()\n",
    "    \n",
    "d_page_access_current = df_not_churn.filter(df_churn['page']=='Downgrade') \\\n",
    "                        .select('userId') \\\n",
    "                        .groupBy('userId') \\\n",
    "                        .agg({'userId':'count'}) \\\n",
    "                        .withColumnRenamed('count(userId)', 'downgrade page access') \\\n",
    "                        .toPandas()\n",
    "\n",
    "d_frequency_churn = d_page_access_churn['downgrade page access'].sum() / d_page_access_churn.shape[0]\n",
    "d_frequency_current = d_page_access_current['downgrade page access'].sum() / d_page_access_current.shape[0]\n",
    "\n",
    "label = ['Churn', 'Current']\n",
    "bar_width = 0.4\n",
    "\n",
    "plt.figure(figsize=(8, 6))\n",
    "\n",
    "plot = plt.bar(label, [d_frequency_churn, d_frequency_current],\n",
    "               color=['blue', 'red'],\n",
    "               alpha=0.5,\n",
    "               width=bar_width)\n",
    "\n",
    "plt.title('Frequency of Accessing Downgrade Page', fontsize=20)\n",
    "plt.ylabel('Average Access', fontsize=15)\n",
    "plt.xlabel('Type of Users', fontsize = 15)\n",
    "plt.legend((plot[0], plot[1]), ('Churn', 'Current'), loc='upper right', fontsize=10)\n",
    "\n",
    "plt.show()\n",
    "\n",
    "print(d_frequency_churn, d_frequency_current)"
   ]
  },
  {
   "cell_type": "markdown",
   "metadata": {},
   "source": [
    "# Feature Engineering"
   ]
  },
  {
   "cell_type": "code",
   "execution_count": 14,
   "metadata": {},
   "outputs": [],
   "source": [
    "# Union two dataframes into a single dataframe\n",
    "df = df_churn.union(df_not_churn).select('userId', 'gender', 'level', 'page', 'churn')\n",
    "\n",
    "# Pivot level column and aggregate values for each users\n",
    "df_level_cnt = df.groupby('userId', 'level') \\\n",
    "                 .pivot('level', ['free', 'paid']) \\\n",
    "                 .count() \\\n",
    "                 .drop('level') \\\n",
    "                 .orderBy('userId')\n",
    "\n",
    "# Pivot page column and aggregate values for each users\n",
    "df_page_cnt = df.filter((df['page']=='NextSong') | (df['page']=='Submit Downgrade') | (df['page']=='Submit Upgrade') | \n",
    "                        (df['page']=='Downgrade') | (df['page']=='Thumbs Up') | (df['page']=='Thumbs Down') | \n",
    "                        (df['page']=='Add to Playlist') | (df['page']=='Add Friend')) \\\n",
    "                .groupby('userId', 'page') \\\n",
    "                .pivot('page') \\\n",
    "                .count() \\\n",
    "                .drop('page') \\\n",
    "                .orderBy('userId')\n",
    "\n",
    "# Drop the original level & page column and join above two dataframes with the original dataframe\n",
    "df = df.drop('level', 'page') \\\n",
    "       .join(df_level_cnt, 'userId', 'inner') \\\n",
    "       .join(df_page_cnt, 'userId', 'inner') \\\n",
    "       .orderBy('userId') \\\n",
    "       .dropDuplicates()\n",
    "\n",
    "# Aggregate users data to a single row represents a user information only\n",
    "df = df.groupby('userId', 'gender').max()\n",
    "features = df.select(['gender', 'max(free)', 'max(paid)', 'max(Add Friend)',\n",
    "                      'max(Add to Playlist)', 'max(Downgrade)', 'max(NextSong)',\n",
    "                      'max(Submit Downgrade)', 'max(Submit Upgrade)', 'max(Thumbs Down)', \n",
    "                      'max(Thumbs Up)', 'max(churn)']) \\\n",
    "             .withColumnRenamed('max(free)', 'free') \\\n",
    "             .withColumnRenamed('max(paid)', 'paid') \\\n",
    "             .withColumnRenamed('max(Add Friend)', 'add_friend') \\\n",
    "             .withColumnRenamed('max(Add to Playlist)', 'add_playlist') \\\n",
    "             .withColumnRenamed('max(Downgrade)', 'd_pge_access') \\\n",
    "             .withColumnRenamed('max(NextSong)', 'num_music') \\\n",
    "             .withColumnRenamed('max(Submit Downgrade)', 'num_downgrade') \\\n",
    "             .withColumnRenamed('max(Submit Upgrade)', 'num_upgrade') \\\n",
    "             .withColumnRenamed('max(Thumbs Down)', 'dislike') \\\n",
    "             .withColumnRenamed('max(Thumbs Up)', 'like') \\\n",
    "             .withColumnRenamed('max(churn)', 'churn') \\\n",
    "             .fillna(0)"
   ]
  },
  {
   "cell_type": "code",
   "execution_count": 15,
   "metadata": {},
   "outputs": [
    {
     "data": {
      "text/plain": [
       "DataFrame[gender: string, free: bigint, paid: bigint, add_friend: bigint, add_playlist: bigint, d_pge_access: bigint, num_music: bigint, num_downgrade: bigint, num_upgrade: bigint, dislike: bigint, like: bigint, churn: int]"
      ]
     },
     "execution_count": 15,
     "metadata": {},
     "output_type": "execute_result"
    }
   ],
   "source": [
    "features.persist()"
   ]
  },
  {
   "cell_type": "code",
   "execution_count": 16,
   "metadata": {
    "scrolled": true
   },
   "outputs": [
    {
     "name": "stdout",
     "output_type": "stream",
     "text": [
      "+------+----+----+----------+------------+------------+---------+-------------+-----------+-------+----+-----+\n",
      "|gender|free|paid|add_friend|add_playlist|d_pge_access|num_music|num_downgrade|num_upgrade|dislike|like|churn|\n",
      "+------+----+----+----------+------------+------------+---------+-------------+-----------+-------+----+-----+\n",
      "|     M|   0| 423|         3|          14|           1|      360|            0|          0|      1|  17|    1|\n",
      "|     M|  60|3939|        71|          94|          40|     3382|            0|          1|     37| 143|    0|\n",
      "|     F| 134|   0|         1|           3|           0|       96|            0|          0|      1|   5|    1|\n",
      "|     F|  43| 134|         0|           3|           2|      137|            1|          1|      2|   8|    1|\n",
      "|     F| 313| 514|         8|          19|          13|      661|            0|          1|     10|  16|    1|\n",
      "|     F| 373|   0|         7|           7|           0|      262|            0|          0|      2|  15|    1|\n",
      "|     M| 100|   0|         0|           1|           0|       72|            0|          0|      1|   2|    1|\n",
      "|     F| 332|  43|         1|           2|           1|      295|            1|          1|      3|  14|    1|\n",
      "|     F| 179| 873|        10|          27|          18|      853|            1|          1|      6|  40|    1|\n",
      "|     F|   0| 463|        10|          11|           5|      386|            0|          0|      5|  19|    0|\n",
      "|     M| 743|2244|        42|          69|          22|     2412|            1|          2|     26| 111|    1|\n",
      "|     F| 137|   0|         3|           1|           0|       96|            0|          0|      3|   4|    1|\n",
      "|     M| 272|1031|        24|          24|          14|     1021|            2|          3|     17|  33|    1|\n",
      "|     M| 167|   0|         3|           5|           0|      112|            0|          0|      2|   1|    1|\n",
      "|     F|  27|   0|         0|           0|           0|       20|            0|          0|      1|   2|    1|\n",
      "|     M|   0| 406|         3|          11|           9|      332|            0|          0|      3|  14|    1|\n",
      "|     F| 529|   0|        11|          13|           0|      381|            0|          0|      6|  19|    0|\n",
      "|     M|  22| 178|         2|           6|           3|      163|            0|          1|      0|   8|    1|\n",
      "|     M| 178|   0|         3|           1|           0|      127|            0|          0|      3|   9|    1|\n",
      "|     M| 169|   0|         1|           1|           0|      124|            0|          0|      1|   8|    1|\n",
      "+------+----+----+----------+------------+------------+---------+-------------+-----------+-------+----+-----+\n",
      "only showing top 20 rows\n",
      "\n"
     ]
    }
   ],
   "source": [
    "# Feautres outlook\n",
    "features.show()"
   ]
  },
  {
   "cell_type": "code",
   "execution_count": 18,
   "metadata": {},
   "outputs": [
    {
     "name": "stdout",
     "output_type": "stream",
     "text": [
      "448 12\n",
      "175 273\n"
     ]
    }
   ],
   "source": [
    "# Shape of features & the number of churn and current users\n",
    "print(features.count(), len(features.columns))\n",
    "print(features.filter(features['churn']==1).count(), features.filter(features['churn']==0).count())"
   ]
  },
  {
   "cell_type": "markdown",
   "metadata": {},
   "source": [
    "# Modeling"
   ]
  },
  {
   "cell_type": "code",
   "execution_count": 38,
   "metadata": {},
   "outputs": [
    {
     "data": {
      "text/plain": [
       "DenseVector([0.4992, 0.3206, 0.1067, 0.0276, 0.0252, 0.0095, 0.007, 0.0027, 0.001, 0.0005, 0.0])"
      ]
     },
     "execution_count": 38,
     "metadata": {},
     "output_type": "execute_result"
    }
   ],
   "source": [
    "# PCA Analysis\n",
    "indexer = StringIndexer(inputCol=\"gender\", outputCol=\"gender_index\")\n",
    "\n",
    "assembler = VectorAssembler(inputCols=['gender_index', 'free', 'paid', 'add_friend', 'add_playlist', 'd_pge_access', \n",
    "                                       'num_music', 'num_downgrade', 'num_upgrade', 'dislike', 'like'], \n",
    "                            outputCol=\"features\")\n",
    "\n",
    "scaler = MinMaxScaler(inputCol=\"features\", outputCol=\"scaledFeatures\")\n",
    "\n",
    "scaled_pipeline = Pipeline(stages=[indexer, assembler, scaler])\n",
    "scaled_model = scaled_pipeline.fit(features)\n",
    "scaled_result = scaled_model.transform(features)\n",
    "\n",
    "pca = PCA(k=11, inputCol=\"scaledFeatures\", outputCol=\"pcaFeatures\")\n",
    "pca_model = pca.fit(scaled_result)\n",
    "pca_model.explainedVariance"
   ]
  },
  {
   "cell_type": "code",
   "execution_count": 39,
   "metadata": {},
   "outputs": [],
   "source": [
    "# Split dataset into train, and test split sets\n",
    "rest, validation = features.randomSplit([0.75, 0.25], seed=42)"
   ]
  },
  {
   "cell_type": "code",
   "execution_count": 41,
   "metadata": {},
   "outputs": [
    {
     "name": "stdout",
     "output_type": "stream",
     "text": [
      "F1 score: 0.7836206896551724\n",
      "Best parameter for regParam: 0.0\n",
      "Best parameter for elasticNetParam: 0.0\n"
     ]
    }
   ],
   "source": [
    "# String indexer for gender column\n",
    "indexer = StringIndexer(inputCol=\"gender\", outputCol=\"gender_index\")\n",
    "\n",
    "# Vector assembler for creating features\n",
    "assembler = VectorAssembler(inputCols=['gender_index', 'free', 'paid', 'add_friend', 'add_playlist', 'd_pge_access', \n",
    "                                       'num_music', 'num_downgrade', 'num_upgrade', 'dislike', 'like'], \n",
    "                            outputCol=\"features\")\n",
    "\n",
    "# MinMax scaler for scaling features\n",
    "scaler = MinMaxScaler(inputCol=\"features\", outputCol=\"scaledFeatures\")\n",
    "\n",
    "# Principal Component Analysis for dimension reduction\n",
    "pca = PCA(k=3, inputCol=\"scaledFeatures\", outputCol=\"pcaFeatures\")\n",
    "\n",
    "# Logistic regression model for baseline estimator\n",
    "lr =  LogisticRegression(featuresCol='pcaFeatures', labelCol='churn', maxIter=10)\n",
    "\n",
    "# Baseline modeling & Hyper parameter tuning\n",
    "base_pipeline = Pipeline(stages=[indexer, assembler, scaler, pca, lr])\n",
    "\n",
    "paramGrid = ParamGridBuilder() \\\n",
    "    .addGrid(lr.regParam, [0, 0.3, 0.5, 0.7, 0.9]) \\\n",
    "    .addGrid(lr.elasticNetParam, [0, 0.2, 0.5, 0.8, 1]) \\\n",
    "    .build()\n",
    "\n",
    "crossval = CrossValidator(estimator=base_pipeline, \n",
    "                          estimatorParamMaps=paramGrid,\n",
    "                          evaluator=MulticlassClassificationEvaluator(labelCol='churn'),\n",
    "                          numFolds=10, \n",
    "                          parallelism=4)\n",
    "\n",
    "base_model = crossval.fit(rest)\n",
    "\n",
    "results = base_model.transform(validation)\n",
    "\n",
    "# Multiclass Classification Evaluator to evaluate models' F1 score\n",
    "evaluator = MulticlassClassificationEvaluator(labelCol='churn')\n",
    "\n",
    "# Results of baseline model's F1 score, and its best hyperparameter\n",
    "print('F1 score: {}'.format(evaluator.evaluate(results.select(['prediction', 'churn']))))\n",
    "print('Best parameter for regParam: {}'.format(base_model.bestModel.stages[-1]._java_obj.parent().getRegParam()))\n",
    "print('Best parameter for elasticNetParam: {}'.format(base_model.bestModel.stages[-1]._java_obj.parent().getElasticNetParam()))\n",
    "\n",
    "# Above the evaluation code is referenced from:\n",
    "# https://stackoverflow.com/questions/36697304/how-to-extract-model-hyper-parameters-from-spark-ml-in-pyspark"
   ]
  },
  {
   "cell_type": "code",
   "execution_count": 101,
   "metadata": {},
   "outputs": [
    {
     "name": "stdout",
     "output_type": "stream",
     "text": [
      "F1 score: 0.7836206896551724\n",
      "Best parameter for maxDepth: 5\n"
     ]
    }
   ],
   "source": [
    "# Gradient Boosted Tree for second estimator\n",
    "gbt = GBTClassifier(featuresCol=\"scaledFeatures\", labelCol=\"churn\", maxIter=10)\n",
    "gbt_pipeline = Pipeline(stages=[indexer, assembler, scaler, gbt])\n",
    "\n",
    "gbt_paramGrid = ParamGridBuilder() \\\n",
    "    .addGrid(gbt.maxDepth, [5, 10, 15]) \\\n",
    "    .build()\n",
    "\n",
    "crossval_gbt = CrossValidator(estimator=gbt_pipeline,\n",
    "                              estimatorParamMaps=gbt_paramGrid,\n",
    "                              evaluator=MulticlassClassificationEvaluator(labelCol='churn'),\n",
    "                              numFolds=10,\n",
    "                              parallelism=4)\n",
    "\n",
    "gbt_model = crossval_gbt.fit(rest)\n",
    "\n",
    "results_gbt = gbt_model.transform(validation)\n",
    "\n",
    "# Results of GBT model's F1 score\n",
    "print('F1 score: {}'.format(evaluator.evaluate(results_gbt.select(['prediction', 'churn']))))\n",
    "print('Best parameter for maxDepth: {}'.format(gbt_model.bestModel.stages[-1]._java_obj.parent().getMaxDepth()))"
   ]
  },
  {
   "cell_type": "code",
   "execution_count": 110,
   "metadata": {},
   "outputs": [
    {
     "name": "stdout",
     "output_type": "stream",
     "text": [
      "F1 score: 0.8109092775041051\n",
      "Best parameter for Smoothing: 0.0\n"
     ]
    }
   ],
   "source": [
    "# Naive Bayes model for the third estimator\n",
    "nb = NaiveBayes(featuresCol='scaledFeatures', labelCol='churn', modelType='multinomial')\n",
    "nb_pipeline = Pipeline(stages=[indexer, assembler, scaler, nb])\n",
    "\n",
    "nb_paramGrid = ParamGridBuilder() \\\n",
    "    .addGrid(nb.smoothing, [0, 0.5, 1]) \\\n",
    "    .build()\n",
    "\n",
    "crossval_nb = CrossValidator(estimator=nb_pipeline,\n",
    "                             estimatorParamMaps=nb_paramGrid,\n",
    "                             evaluator=MulticlassClassificationEvaluator(labelCol='churn'),\n",
    "                             numFolds=10,\n",
    "                             parallelism=4)\n",
    "\n",
    "nb_model = crossval_nb.fit(rest)\n",
    "\n",
    "results_nb = nb_model.transform(validation)\n",
    "\n",
    "# Results of Naive Bayes model's F1 score, and its best hyperparameter\n",
    "print('F1 score: {}'.format(evaluator.evaluate(results_nb.select(['prediction', 'churn']))))\n",
    "print('Best parameter for Smoothing: {}'.format(nb_model.bestModel.stages[-1]._java_obj.parent().getSmoothing()))"
   ]
  },
  {
   "cell_type": "code",
   "execution_count": 114,
   "metadata": {},
   "outputs": [
    {
     "name": "stdout",
     "output_type": "stream",
     "text": [
      "F1 score: 0.8109092775041051\n",
      "Best parameter for regParam: 0.01\n",
      "Best parameter for tol: 1e-06\n"
     ]
    }
   ],
   "source": [
    "# Linear SVC model for the final estimator\n",
    "svm = LinearSVC(featuresCol='scaledFeatures', labelCol='churn', maxIter=10)\n",
    "svm_pipeline = Pipeline(stages=[indexer, assembler, scaler, pca, svm])\n",
    "\n",
    "svm_paramGrid = ParamGridBuilder() \\\n",
    "    .addGrid(svm.regParam, [0.01, 0.05]) \\\n",
    "    .addGrid(svm.tol, [0.000001, 0.00001, 0.0001]) \\\n",
    "    .build()\n",
    "\n",
    "crossval_svm = CrossValidator(estimator=svm_pipeline,\n",
    "                             estimatorParamMaps=svm_paramGrid,\n",
    "                             evaluator=MulticlassClassificationEvaluator(labelCol='churn'),\n",
    "                             numFolds=10,\n",
    "                             parallelism=4)\n",
    "\n",
    "svm_model = crossval_svm.fit(rest)\n",
    "\n",
    "results_svm = svm_model.transform(validation)\n",
    "\n",
    "# Results of Naive Bayes model's F1 score, and its best hyperparameter\n",
    "print('F1 score: {}'.format(evaluator.evaluate(results_svm.select(['prediction', 'churn']))))\n",
    "print('Best parameter for regParam: {}'.format(svm_model.bestModel.stages[-1]._java_obj.parent().getRegParam()))\n",
    "print('Best parameter for tol: {}'.format(svm_model.bestModel.stages[-1]._java_obj.parent().getTol()))"
   ]
  }
 ],
 "metadata": {
  "kernelspec": {
   "display_name": "Python 3",
   "language": "python",
   "name": "python3"
  },
  "language_info": {
   "codemirror_mode": {
    "name": "ipython",
    "version": 3
   },
   "file_extension": ".py",
   "mimetype": "text/x-python",
   "name": "python",
   "nbconvert_exporter": "python",
   "pygments_lexer": "ipython3",
   "version": "3.6.3"
  }
 },
 "nbformat": 4,
 "nbformat_minor": 1
}
